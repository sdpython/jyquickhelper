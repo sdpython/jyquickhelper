{
 "cells": [
  {
   "cell_type": "markdown",
   "metadata": {},
   "source": [
    "# Javascript library in a notebook: viz.js\n",
    "\n",
    "Tries [vizjs](https://github.com/mdaines/viz.js/) in a notebook. This is a simple way to show a graph defined with the [DOT language](http://www.graphviz.org/content/dot-language/). [vizjs](https://github.com/mdaines/viz.js/) compiles [Graphviz](https://www.graphviz.org/) was compiled into javascript with [emscripten](http://kripken.github.io/emscripten-site/)."
   ]
  },
  {
   "cell_type": "code",
   "execution_count": 1,
   "metadata": {
    "scrolled": true
   },
   "outputs": [
    {
     "data": {
      "text/html": [
       "<div id=\"Mf566c9a176ee4f1db1bd0d6a4a1ee36b-cont\" style=\"height:100%;width:100%;\"><div id=\"Mf566c9a176ee4f1db1bd0d6a4a1ee36b\"></div></div>\n",
       "<script>\n",
       "\n",
       "require(['http://www.xavierdupre.fr/js/vizjs/viz-lite.js'], function() { \n",
       "var svgGraph = Viz(\"digraph { a -> b; }\");\n",
       "document.getElementById('Mf566c9a176ee4f1db1bd0d6a4a1ee36b').innerHTML = svgGraph;\n",
       " });\n",
       "\n",
       "</script>\n"
      ],
      "text/plain": [
       "<jyquickhelper.jspy.javascript_helper.RenderJS at 0x1e7ceb397b8>"
      ]
     },
     "execution_count": 1,
     "metadata": {},
     "output_type": "execute_result"
    }
   ],
   "source": [
    "from jyquickhelper import RenderJS\n",
    "css = None\n",
    "libs = ['http://www.xavierdupre.fr/js/vizjs/viz-lite.js']\n",
    "script = \"\"\"\n",
    "var svgGraph = Viz(\"digraph { a -> b; }\");\n",
    "document.getElementById('__ID__').innerHTML = svgGraph;\n",
    "\"\"\"\n",
    "jr = RenderJS(script, css=css, libs=libs)\n",
    "jr"
   ]
  },
  {
   "cell_type": "code",
   "execution_count": 2,
   "metadata": {},
   "outputs": [
    {
     "name": "stdout",
     "output_type": "stream",
     "text": [
      "<div id=\"Mf566c9a176ee4f1db1bd0d6a4a1ee36b-cont\" style=\"height:100%;width:100%;\"><div id=\"Mf566c9a176ee4f1db1bd0d6a4a1ee36b\"></div></div>\n",
      "<script>\n",
      "\n",
      "require(['http://www.xavierdupre.fr/js/vizjs/viz-lite.js'], function() { \n",
      "var svgGraph = Viz(\"digraph { a -> b; }\");\n",
      "document.getElementById('Mf566c9a176ee4f1db1bd0d6a4a1ee36b').innerHTML = svgGraph;\n",
      " });\n",
      "\n",
      "</script>\n",
      "\n"
     ]
    }
   ],
   "source": [
    "print(jr._repr_html_())"
   ]
  },
  {
   "cell_type": "markdown",
   "metadata": {},
   "source": [
    "The graph can become dynamic by using [d3-graphviz](https://github.com/magjac/d3-graphviz). I took the minified version available here [d3-graphviz.min.js](https://www.jsdelivr.com/package/npm/d3-graphviz) showing up at this example [d3-graphviz Basic Example](https://bl.ocks.org/magjac/a23d1f1405c2334f288a9cca4c0ef05b)."
   ]
  },
  {
   "cell_type": "code",
   "execution_count": 3,
   "metadata": {},
   "outputs": [
    {
     "data": {
      "text/html": [
       "<div id=\"M839095a28b814950aed784350f16e613-cont\" style=\"height:100%;width:100%;\"><div id=\"M839095a28b814950aed784350f16e613\"></div></div>\n",
       "<script>\n",
       "require.config({\n",
       "paths:{\n",
       "'d3':'http://www.xavierdupre.fr/js/d3/d3.v4.min',\n",
       "},\n",
       "shim:{\n",
       "'d3':{'exports':'d3'},\n",
       "},\n",
       "});\n",
       "\n",
       "require(['d3','http://www.xavierdupre.fr/js/vizjs/viz-lite.js','http://www.xavierdupre.fr/js/d3graphviz/d3-graphviz.min.js'], function(d3) { \n",
       "d3.select(\"#M839095a28b814950aed784350f16e613\").graphviz()\n",
       "    .fade(false)\n",
       "    .renderDot('digraph  {a -> b}');\n",
       " });\n",
       "\n",
       "</script>\n"
      ],
      "text/plain": [
       "<jyquickhelper.jspy.javascript_helper.RenderJS at 0x1e7cebfec50>"
      ]
     },
     "execution_count": 3,
     "metadata": {},
     "output_type": "execute_result"
    }
   ],
   "source": [
    "css = None\n",
    "libs = [dict(path=\"http://www.xavierdupre.fr/js/d3/d3.v4.min.js\",\n",
    "             name=\"d3\", exports=\"d3\"),\n",
    "        'http://www.xavierdupre.fr/js/vizjs/viz-lite.js',\n",
    "        'http://www.xavierdupre.fr/js/d3graphviz/d3-graphviz.min.js']\n",
    "script = \"\"\"\n",
    "d3.select(\"#__ID__\").graphviz()\n",
    "    .fade(false)\n",
    "    .renderDot('digraph  {a -> b}');\n",
    "\"\"\"\n",
    "jr = RenderJS(script, css=css, libs=libs)\n",
    "jr"
   ]
  },
  {
   "cell_type": "code",
   "execution_count": 4,
   "metadata": {},
   "outputs": [
    {
     "name": "stdout",
     "output_type": "stream",
     "text": [
      "<div id=\"M839095a28b814950aed784350f16e613-cont\" style=\"height:100%;width:100%;\"><div id=\"M839095a28b814950aed784350f16e613\"></div></div>\n",
      "<script>\n",
      "require.config({\n",
      "paths:{\n",
      "'d3':'http://www.xavierdupre.fr/js/d3/d3.v4.min',\n",
      "},\n",
      "shim:{\n",
      "'d3':{'exports':'d3'},\n",
      "},\n",
      "});\n",
      "\n",
      "require(['d3','http://www.xavierdupre.fr/js/vizjs/viz-lite.js','http://www.xavierdupre.fr/js/d3graphviz/d3-graphviz.min.js'], function(d3) { \n",
      "d3.select(\"#M839095a28b814950aed784350f16e613\").graphviz()\n",
      "    .fade(false)\n",
      "    .renderDot('digraph  {a -> b}');\n",
      " });\n",
      "\n",
      "</script>\n",
      "\n"
     ]
    }
   ],
   "source": [
    "print(jr._repr_html_())"
   ]
  },
  {
   "cell_type": "markdown",
   "metadata": {},
   "source": [
    "Not really working."
   ]
  },
  {
   "cell_type": "code",
   "execution_count": null,
   "metadata": {},
   "outputs": [],
   "source": []
  }
 ],
 "metadata": {
  "kernelspec": {
   "display_name": "Python 3",
   "language": "python",
   "name": "python3"
  },
  "language_info": {
   "codemirror_mode": {
    "name": "ipython",
    "version": 3
   },
   "file_extension": ".py",
   "mimetype": "text/x-python",
   "name": "python",
   "nbconvert_exporter": "python",
   "pygments_lexer": "ipython3",
   "version": "3.6.4"
  }
 },
 "nbformat": 4,
 "nbformat_minor": 2
}
