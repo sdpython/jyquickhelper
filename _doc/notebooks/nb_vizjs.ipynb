{
  "cells": [
    {
      "cell_type": "markdown",
      "metadata": {},
      "source": [
        "# Javascript library in a notebook: viz.js\n",
        "\n",
        "Tries [vizjs](https://github.com/mdaines/viz.js/) in a notebook. This is a simple way to show a graph defined with the [DOT language](http://www.graphviz.org/content/dot-language/). [vizjs](https://github.com/mdaines/viz.js/) compiles [Graphviz](https://www.graphviz.org/) was compiled into javascript with [emscripten](http://kripken.github.io/emscripten-site/)."
      ]
    },
    {
      "cell_type": "code",
      "execution_count": 1,
      "metadata": {},
      "outputs": [
        {
          "data": {
            "text/html": [
              "<div id=\"my_id_menu_nb\">run previous cell, wait for 2 seconds</div>\n",
              "<script>\n",
              "function repeat_indent_string(n){\n",
              "    var a = \"\" ;\n",
              "    for ( ; n > 0 ; --n)\n",
              "        a += \"    \";\n",
              "    return a;\n",
              "}\n",
              "var update_menu_string = function(begin, lfirst, llast, sformat, send, keep_item, begin_format, end_format) {\n",
              "    var anchors = document.getElementsByClassName(\"section\");\n",
              "    if (anchors.length == 0) {\n",
              "        anchors = document.getElementsByClassName(\"text_cell_render rendered_html\");\n",
              "    }\n",
              "    var i,t;\n",
              "    var text_menu = begin;\n",
              "    var text_memo = \"<pre>\\nlength:\" + anchors.length + \"\\n\";\n",
              "    var ind = \"\";\n",
              "    var memo_level = 1;\n",
              "    var href;\n",
              "    var tags = [];\n",
              "    var main_item = 0;\n",
              "    var format_open = 0;\n",
              "    for (i = 0; i <= llast; i++)\n",
              "        tags.push(\"h\" + i);\n",
              "\n",
              "    for (i = 0; i < anchors.length; i++) {\n",
              "        text_memo += \"**\" + anchors[i].id + \"--\\n\";\n",
              "\n",
              "        var child = null;\n",
              "        for(t = 0; t < tags.length; t++) {\n",
              "            var r = anchors[i].getElementsByTagName(tags[t]);\n",
              "            if (r.length > 0) {\n",
              "child = r[0];\n",
              "break;\n",
              "            }\n",
              "        }\n",
              "        if (child == null) {\n",
              "            text_memo += \"null\\n\";\n",
              "            continue;\n",
              "        }\n",
              "        if (anchors[i].hasAttribute(\"id\")) {\n",
              "            // when converted in RST\n",
              "            href = anchors[i].id;\n",
              "            text_memo += \"#1-\" + href;\n",
              "            // passer \u00e0 child suivant (le chercher)\n",
              "        }\n",
              "        else if (child.hasAttribute(\"id\")) {\n",
              "            // in a notebook\n",
              "            href = child.id;\n",
              "            text_memo += \"#2-\" + href;\n",
              "        }\n",
              "        else {\n",
              "            text_memo += \"#3-\" + \"*\" + \"\\n\";\n",
              "            continue;\n",
              "        }\n",
              "        var title = child.textContent;\n",
              "        var level = parseInt(child.tagName.substring(1,2));\n",
              "\n",
              "        text_memo += \"--\" + level + \"?\" + lfirst + \"--\" + title + \"\\n\";\n",
              "\n",
              "        if ((level < lfirst) || (level > llast)) {\n",
              "            continue ;\n",
              "        }\n",
              "        if (title.endsWith('\u00b6')) {\n",
              "            title = title.substring(0,title.length-1).replace(\"<\", \"&lt;\")\n",
              "         .replace(\">\", \"&gt;\").replace(\"&\", \"&amp;\");\n",
              "        }\n",
              "        if (title.length == 0) {\n",
              "            continue;\n",
              "        }\n",
              "\n",
              "        while (level < memo_level) {\n",
              "            text_menu += end_format + \"</ul>\\n\";\n",
              "            format_open -= 1;\n",
              "            memo_level -= 1;\n",
              "        }\n",
              "        if (level == lfirst) {\n",
              "            main_item += 1;\n",
              "        }\n",
              "        if (keep_item != -1 && main_item != keep_item + 1) {\n",
              "            // alert(main_item + \" - \" + level + \" - \" + keep_item);\n",
              "            continue;\n",
              "        }\n",
              "        while (level > memo_level) {\n",
              "            text_menu += \"<ul>\\n\";\n",
              "            memo_level += 1;\n",
              "        }\n",
              "        text_menu += repeat_indent_string(level-2);\n",
              "        text_menu += begin_format + sformat.replace(\"__HREF__\", href).replace(\"__TITLE__\", title);\n",
              "        format_open += 1;\n",
              "    }\n",
              "    while (1 < memo_level) {\n",
              "        text_menu += end_format + \"</ul>\\n\";\n",
              "        memo_level -= 1;\n",
              "        format_open -= 1;\n",
              "    }\n",
              "    text_menu += send;\n",
              "    //text_menu += \"\\n\" + text_memo;\n",
              "\n",
              "    while (format_open > 0) {\n",
              "        text_menu += end_format;\n",
              "        format_open -= 1;\n",
              "    }\n",
              "    return text_menu;\n",
              "};\n",
              "var update_menu = function() {\n",
              "    var sbegin = \"\";\n",
              "    var sformat = '<a href=\"#__HREF__\">__TITLE__</a>';\n",
              "    var send = \"\";\n",
              "    var begin_format = '<li>';\n",
              "    var end_format = '</li>';\n",
              "    var keep_item = -1;\n",
              "    var text_menu = update_menu_string(sbegin, 2, 4, sformat, send, keep_item,\n",
              "       begin_format, end_format);\n",
              "    var menu = document.getElementById(\"my_id_menu_nb\");\n",
              "    menu.innerHTML=text_menu;\n",
              "};\n",
              "window.setTimeout(update_menu,2000);\n",
              "            </script>"
            ],
            "text/plain": [
              "<IPython.core.display.HTML object>"
            ]
          },
          "execution_count": 2,
          "metadata": {},
          "output_type": "execute_result"
        }
      ],
      "source": [
        "from jyquickhelper import add_notebook_menu\n",
        "add_notebook_menu()"
      ]
    },
    {
      "cell_type": "markdown",
      "metadata": {},
      "source": [
        "## viz.js"
      ]
    },
    {
      "cell_type": "code",
      "execution_count": 2,
      "metadata": {
        "scrolled": true
      },
      "outputs": [
        {
          "data": {
            "text/html": [
              "<div id=\"Ma26925333aa342c18522fd8265e8194a-cont\" style=\"width:100%;height:100%;\"><div id=\"Ma26925333aa342c18522fd8265e8194a\"></div></div>\n",
              "<script>\n",
              "\n",
              "require(['http://www.xavierdupre.fr/js/vizjs/viz-lite.js'], function() { \n",
              "var svgGraph = Viz(\"digraph { a -> b; }\");\n",
              "document.getElementById('Ma26925333aa342c18522fd8265e8194a').innerHTML = svgGraph;\n",
              " });\n",
              "\n",
              "</script>\n"
            ],
            "text/plain": [
              "<jyquickhelper.jspy.render_nb_js.RenderJS at 0x16a82b27e48>"
            ]
          },
          "execution_count": 3,
          "metadata": {},
          "output_type": "execute_result"
        }
      ],
      "source": [
        "from jyquickhelper import RenderJS\n",
        "css = None\n",
        "libs = ['http://www.xavierdupre.fr/js/vizjs/viz-lite.js']\n",
        "script = \"\"\"\n",
        "var svgGraph = Viz(\"digraph { a -> b; }\");\n",
        "document.getElementById('__ID__').innerHTML = svgGraph;\n",
        "\"\"\"\n",
        "jr = RenderJS(script, css=css, libs=libs)\n",
        "jr"
      ]
    },
    {
      "cell_type": "code",
      "execution_count": 3,
      "metadata": {},
      "outputs": [
        {
          "name": "stdout",
          "output_type": "stream",
          "text": [
            "<div id=\"Ma26925333aa342c18522fd8265e8194a-cont\" style=\"width:100%;height:100%;\"><div id=\"Ma26925333aa342c18522fd8265e8194a\"></div></div>\n",
            "<script>\n",
            "\n",
            "require(['http://www.xavierdupre.fr/js/vizjs/viz-lite.js'], function() { \n",
            "var svgGraph = Viz(\"digraph { a -> b; }\");\n",
            "document.getElementById('Ma26925333aa342c18522fd8265e8194a').innerHTML = svgGraph;\n",
            " });\n",
            "\n",
            "</script>\n",
            "\n"
          ]
        }
      ],
      "source": [
        "print(jr._repr_html_())"
      ]
    },
    {
      "cell_type": "markdown",
      "metadata": {},
      "source": [
        "## wrapped into RenderJsDot\n",
        "\n",
        "The previous script was wraps into a class in this module."
      ]
    },
    {
      "cell_type": "code",
      "execution_count": 4,
      "metadata": {},
      "outputs": [
        {
          "data": {
            "text/html": [
              "<div id=\"Ma73d3160369344ab8a5228d9dcf72330-cont\" style=\"width:100%;height:100%;\"><div id=\"Ma73d3160369344ab8a5228d9dcf72330\"></div></div>\n",
              "<script>\n",
              "\n",
              "require(['http://www.xavierdupre.fr/js/vizjs/viz-lite.js'], function() { var svgGraph = Viz(\"\\ndigraph {\\n    d[label=\\\"longer label\\\"];\\n    a -> b -> c;\\n    b -> d;\\n}\\n\");\n",
              "document.getElementById('Ma73d3160369344ab8a5228d9dcf72330').innerHTML = svgGraph; });\n",
              "\n",
              "</script>"
            ],
            "text/plain": [
              "<jyquickhelper.jspy.render_nb_js_dot.RenderJsDot at 0x16a82b27b38>"
            ]
          },
          "execution_count": 5,
          "metadata": {},
          "output_type": "execute_result"
        }
      ],
      "source": [
        "from jyquickhelper import RenderJsDot\n",
        "\n",
        "dot = \"\"\"\n",
        "digraph {\n",
        "    d[label=\"longer label\"];\n",
        "    a -> b -> c;\n",
        "    b -> d;\n",
        "}\n",
        "\"\"\"\n",
        "\n",
        "RenderJsDot(dot)"
      ]
    },
    {
      "cell_type": "code",
      "execution_count": 5,
      "metadata": {},
      "outputs": [
        {
          "name": "stdout",
          "output_type": "stream",
          "text": [
            "<div id=\"Me4b5388c643e48ae9195904d482f9ee4-cont\" style=\"width:100%;height:100%;\"><div id=\"Me4b5388c643e48ae9195904d482f9ee4\"></div></div>\n",
            "<script>\n",
            "\n",
            "require(['http://www.xavierdupre.fr/js/vizjs/viz-lite.js'], function() { var svgGraph = Viz(\"\\ndigraph {\\n    d[label=\\\"longer label\\\"];\\n    a -> b -> c;\\n    b -> d;\\n}\\n\");\n",
            "document.getElementById('Me4b5388c643e48ae9195904d482f9ee4').innerHTML = svgGraph; });\n",
            "\n",
            "</script>\n"
          ]
        }
      ],
      "source": [
        "print(RenderJsDot(dot)._repr_html_())"
      ]
    },
    {
      "cell_type": "markdown",
      "metadata": {},
      "source": [
        "## d3 graphviz"
      ]
    },
    {
      "cell_type": "markdown",
      "metadata": {},
      "source": [
        "The graph can become dynamic by using [d3-graphviz](https://github.com/magjac/d3-graphviz). I took the minified version available here [d3-graphviz.min.js](https://www.jsdelivr.com/package/npm/d3-graphviz) showing up at this example [d3-graphviz Basic Example](https://bl.ocks.org/magjac/a23d1f1405c2334f288a9cca4c0ef05b)."
      ]
    },
    {
      "cell_type": "code",
      "execution_count": 6,
      "metadata": {},
      "outputs": [
        {
          "data": {
            "text/html": [
              "<div id=\"M30de6972de6843888ad9a445752481b1-cont\" style=\"width:100%;height:100%;\"><div id=\"M30de6972de6843888ad9a445752481b1\"></div></div>\n",
              "<script>\n",
              "require.config({\n",
              "paths:{\n",
              "'d3':'http://www.xavierdupre.fr/js/d3/d3.v4.min',\n",
              "},\n",
              "shim:{\n",
              "'d3':{'exports':'d3'},\n",
              "},\n",
              "});\n",
              "\n",
              "require(['d3','http://www.xavierdupre.fr/js/vizjs/viz-lite.js','http://www.xavierdupre.fr/js/d3graphviz/d3-graphviz.min.js'], function(d3) { \n",
              "d3.select(\"#M30de6972de6843888ad9a445752481b1\").graphviz()\n",
              "    .fade(false)\n",
              "    .renderDot('digraph  {a -> b}');\n",
              " });\n",
              "\n",
              "</script>\n"
            ],
            "text/plain": [
              "<jyquickhelper.jspy.render_nb_js.RenderJS at 0x16a82b489b0>"
            ]
          },
          "execution_count": 7,
          "metadata": {},
          "output_type": "execute_result"
        }
      ],
      "source": [
        "css = None\n",
        "libs = [dict(path=\"http://www.xavierdupre.fr/js/d3/d3.v4.min.js\",\n",
        "             name=\"d3\", exports=\"d3\"),\n",
        "        'http://www.xavierdupre.fr/js/vizjs/viz-lite.js',\n",
        "        'http://www.xavierdupre.fr/js/d3graphviz/d3-graphviz.min.js']\n",
        "script = \"\"\"\n",
        "d3.select(\"#__ID__\").graphviz()\n",
        "    .fade(false)\n",
        "    .renderDot('digraph  {a -> b}');\n",
        "\"\"\"\n",
        "jr = RenderJS(script, css=css, libs=libs)\n",
        "jr"
      ]
    },
    {
      "cell_type": "code",
      "execution_count": 7,
      "metadata": {},
      "outputs": [
        {
          "name": "stdout",
          "output_type": "stream",
          "text": [
            "<div id=\"M30de6972de6843888ad9a445752481b1-cont\" style=\"width:100%;height:100%;\"><div id=\"M30de6972de6843888ad9a445752481b1\"></div></div>\n",
            "<script>\n",
            "require.config({\n",
            "paths:{\n",
            "'d3':'http://www.xavierdupre.fr/js/d3/d3.v4.min',\n",
            "},\n",
            "shim:{\n",
            "'d3':{'exports':'d3'},\n",
            "},\n",
            "});\n",
            "\n",
            "require(['d3','http://www.xavierdupre.fr/js/vizjs/viz-lite.js','http://www.xavierdupre.fr/js/d3graphviz/d3-graphviz.min.js'], function(d3) { \n",
            "d3.select(\"#M30de6972de6843888ad9a445752481b1\").graphviz()\n",
            "    .fade(false)\n",
            "    .renderDot('digraph  {a -> b}');\n",
            " });\n",
            "\n",
            "</script>\n",
            "\n"
          ]
        }
      ],
      "source": [
        "print(jr._repr_html_())"
      ]
    },
    {
      "cell_type": "markdown",
      "metadata": {},
      "source": [
        "Not really working."
      ]
    },
    {
      "cell_type": "code",
      "execution_count": 8,
      "metadata": {},
      "outputs": [],
      "source": []
    }
  ],
  "metadata": {
    "kernelspec": {
      "display_name": "Python 3",
      "language": "python",
      "name": "python3"
    },
    "language_info": {
      "codemirror_mode": {
        "name": "ipython",
        "version": 3
      },
      "file_extension": ".py",
      "mimetype": "text/x-python",
      "name": "python",
      "nbconvert_exporter": "python",
      "pygments_lexer": "ipython3",
      "version": "3.6.4"
    }
  },
  "nbformat": 4,
  "nbformat_minor": 2
}