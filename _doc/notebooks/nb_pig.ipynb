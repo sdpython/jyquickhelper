{
  "cells": [
    {
      "cell_type": "markdown",
      "metadata": {},
      "source": [
        "# Javascript library in a notebook: pig\n",
        "\n",
        "Tries [pig](https://github.com/schlosser/pig.js) in a notebook. Example from [index.html](https://github.com/schlosser/pig.js/blob/master/test/index.html)."
      ]
    },
    {
      "cell_type": "code",
      "execution_count": 1,
      "metadata": {},
      "outputs": [
        {
          "data": {
            "text/html": [
              "<div id=\"Mb16557ab711d4a17ab42d515fff41f66-cont\"><div id=\"Mb16557ab711d4a17ab42d515fff41f66\" style=\"width:100%;height:100%;\"></div></div>\n",
              "<script>\n",
              "\n",
              "require(['http://www.xavierdupre.fr/js/pig/pig.min.js'], function() { \n",
              "var imageData = [\n",
              "    {\"filename\": \"nb_c3.thumb.png\", \"aspectRatio\": 1},\n",
              "    {\"filename\": \"nb_viz.thumb.png\", \"aspectRatio\": 1},\n",
              "    {\"filename\": \"nb_svg.thumb.png\", \"aspectRatio\": 1},\n",
              "    {\"filename\": \"nb_vis.thumb.png\", \"aspectRatio\": 1},\n",
              "    {\"filename\": \"nb_mermaid.thumb.png\", \"aspectRatio\": 1},\n",
              "];\n",
              "var pig = new Pig(imageData, {\n",
              "    urlForSize: function(filename, size) {\n",
              "        return 'http://www.xavierdupre.fr/app/jyquickhelper/helpsphinx/_images/' + filename;\n",
              "        },\n",
              "    containerId: \"Mb16557ab711d4a17ab42d515fff41f66\",\n",
              "}).enable();\n",
              " });\n",
              "\n",
              "</script>\n"
            ],
            "text/plain": [
              "<jyquickhelper.jspy.render_nb_js.RenderJS at 0x229603f41d0>"
            ]
          },
          "execution_count": 2,
          "metadata": {},
          "output_type": "execute_result"
        }
      ],
      "source": [
        "from jyquickhelper import RenderJS\n",
        "css = None\n",
        "libs = ['http://www.xavierdupre.fr/js/pig/pig.min.js']\n",
        "script = \"\"\"\n",
        "var imageData = [\n",
        "    {\"filename\": \"nb_c3.thumb.png\", \"aspectRatio\": 1},\n",
        "    {\"filename\": \"nb_viz.thumb.png\", \"aspectRatio\": 1},\n",
        "    {\"filename\": \"nb_svg.thumb.png\", \"aspectRatio\": 1},\n",
        "    {\"filename\": \"nb_vis.thumb.png\", \"aspectRatio\": 1},\n",
        "    {\"filename\": \"nb_mermaid.thumb.png\", \"aspectRatio\": 1},\n",
        "];\n",
        "var pig = new Pig(imageData, {\n",
        "    urlForSize: function(filename, size) {\n",
        "        return 'http://www.xavierdupre.fr/app/jyquickhelper/helpsphinx/_images/' + filename;\n",
        "        },\n",
        "    containerId: \"__ID__\",\n",
        "}).enable();\n",
        "\"\"\"\n",
        "jr = RenderJS(script, css=css, libs=libs)\n",
        "jr"
      ]
    },
    {
      "cell_type": "code",
      "execution_count": 2,
      "metadata": {},
      "outputs": [
        {
          "name": "stdout",
          "output_type": "stream",
          "text": [
            "<div id=\"Mb16557ab711d4a17ab42d515fff41f66-cont\"><div id=\"Mb16557ab711d4a17ab42d515fff41f66\" style=\"width:100%;height:100%;\"></div></div>\n",
            "<script>\n",
            "\n",
            "require(['http://www.xavierdupre.fr/js/pig/pig.min.js'], function() { \n",
            "var imageData = [\n",
            "    {\"filename\": \"nb_c3.thumb.png\", \"aspectRatio\": 1},\n",
            "    {\"filename\": \"nb_viz.thumb.png\", \"aspectRatio\": 1},\n",
            "    {\"filename\": \"nb_svg.thumb.png\", \"aspectRatio\": 1},\n",
            "    {\"filename\": \"nb_vis.thumb.png\", \"aspectRatio\": 1},\n",
            "    {\"filename\": \"nb_mermaid.thumb.png\", \"aspectRatio\": 1},\n",
            "];\n",
            "var pig = new Pig(imageData, {\n",
            "    urlForSize: function(filename, size) {\n",
            "        return 'http://www.xavierdupre.fr/app/jyquickhelper/helpsphinx/_images/' + filename;\n",
            "        },\n",
            "    containerId: \"Mb16557ab711d4a17ab42d515fff41f66\",\n",
            "}).enable();\n",
            " });\n",
            "\n",
            "</script>\n",
            "\n"
          ]
        }
      ],
      "source": [
        "print(jr._repr_html_())"
      ]
    },
    {
      "cell_type": "markdown",
      "metadata": {},
      "source": [
        "Not very successful."
      ]
    },
    {
      "cell_type": "code",
      "execution_count": 3,
      "metadata": {},
      "outputs": [],
      "source": []
    }
  ],
  "metadata": {
    "kernelspec": {
      "display_name": "Python 3",
      "language": "python",
      "name": "python3"
    },
    "language_info": {
      "codemirror_mode": {
        "name": "ipython",
        "version": 3
      },
      "file_extension": ".py",
      "mimetype": "text/x-python",
      "name": "python",
      "nbconvert_exporter": "python",
      "pygments_lexer": "ipython3",
      "version": "3.7.2"
    }
  },
  "nbformat": 4,
  "nbformat_minor": 1
}