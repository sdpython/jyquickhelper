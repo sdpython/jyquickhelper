{
  "cells": [
    {
      "cell_type": "markdown",
      "metadata": {},
      "source": [
        "# Javascript library in a notebook: mermaid\n",
        "\n",
        "Tries [mermaid](https://mermaidjs.github.io/) in a notebook. Example from [demo](https://mermaidjs.github.io/mermaidAPI.html)."
      ]
    },
    {
      "cell_type": "code",
      "execution_count": 1,
      "metadata": {
        "scrolled": true
      },
      "outputs": [
        {
          "data": {
            "text/html": [
              "<div id=\"M7a059e1abe334bd3a7b6cac96353f507-css\"><link rel=\"stylesheet\" href=\"http://www.xavierdupre.fr/js/mermaid/mermaid.forest.css\" type=\"text/css\" /><div id=\"M7a059e1abe334bd3a7b6cac96353f507\" style=\"width:100%;height:100%;\"></div></div>\n",
              "<script>\n",
              "\n",
              "require(['http://www.xavierdupre.fr/js/mermaid/mermaidAPI.min.js'], function() { \n",
              "var graphDefinition = 'graph TB\\na-->b';\n",
              "var cb = function(svgGraph) {\n",
              "    document.getElementById('M7a059e1abe334bd3a7b6cac96353f507').innerHTML = svgGraph;\n",
              "}\n",
              "mermaidAPI.render('M7a059e1abe334bd3a7b6cac96353f507svg', graphDefinition, cb);\n",
              " });\n",
              "\n",
              "</script>\n"
            ],
            "text/plain": [
              "<jyquickhelper.jspy.render_nb_js.RenderJS at 0x19773490048>"
            ]
          },
          "execution_count": 2,
          "metadata": {},
          "output_type": "execute_result"
        }
      ],
      "source": [
        "from jyquickhelper import RenderJS\n",
        "css = [\"http://www.xavierdupre.fr/js/mermaid/mermaid.forest.css\"]\n",
        "libs = ['http://www.xavierdupre.fr/js/mermaid/mermaidAPI.min.js']\n",
        "script = \"\"\"\n",
        "var graphDefinition = 'graph TB\\\\na-->b';\n",
        "var cb = function(svgGraph) {\n",
        "    document.getElementById('__ID__').innerHTML = svgGraph;\n",
        "}\n",
        "mermaidAPI.render('__ID__svg', graphDefinition, cb);\n",
        "\"\"\"\n",
        "jr = RenderJS(script, css=css, libs=libs)\n",
        "jr"
      ]
    },
    {
      "cell_type": "code",
      "execution_count": 2,
      "metadata": {},
      "outputs": [
        {
          "name": "stdout",
          "output_type": "stream",
          "text": [
            "<div id=\"M7a059e1abe334bd3a7b6cac96353f507-css\"><link rel=\"stylesheet\" href=\"http://www.xavierdupre.fr/js/mermaid/mermaid.forest.css\" type=\"text/css\" /><div id=\"M7a059e1abe334bd3a7b6cac96353f507\" style=\"width:100%;height:100%;\"></div></div>\n",
            "<script>\n",
            "\n",
            "require(['http://www.xavierdupre.fr/js/mermaid/mermaidAPI.min.js'], function() { \n",
            "var graphDefinition = 'graph TB\\na-->b';\n",
            "var cb = function(svgGraph) {\n",
            "    document.getElementById('M7a059e1abe334bd3a7b6cac96353f507').innerHTML = svgGraph;\n",
            "}\n",
            "mermaidAPI.render('M7a059e1abe334bd3a7b6cac96353f507svg', graphDefinition, cb);\n",
            " });\n",
            "\n",
            "</script>\n",
            "\n"
          ]
        }
      ],
      "source": [
        "print(jr._repr_html_())"
      ]
    },
    {
      "cell_type": "code",
      "execution_count": 3,
      "metadata": {},
      "outputs": [],
      "source": []
    }
  ],
  "metadata": {
    "kernelspec": {
      "display_name": "Python 3",
      "language": "python",
      "name": "python3"
    },
    "language_info": {
      "codemirror_mode": {
        "name": "ipython",
        "version": 3
      },
      "file_extension": ".py",
      "mimetype": "text/x-python",
      "name": "python",
      "nbconvert_exporter": "python",
      "pygments_lexer": "ipython3",
      "version": "3.7.2"
    }
  },
  "nbformat": 4,
  "nbformat_minor": 2
}