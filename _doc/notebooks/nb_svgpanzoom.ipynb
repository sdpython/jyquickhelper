{
  "cells": [
    {
      "cell_type": "markdown",
      "metadata": {},
      "source": [
        "# Javascript library in a notebook: svg.pan-zoom\n",
        "\n",
        "Tries [svg.pan-zoom](http://jillix.github.io/svg.pan-zoom.js/) in a notebook."
      ]
    },
    {
      "cell_type": "code",
      "execution_count": 1,
      "metadata": {},
      "outputs": [
        {
          "data": {
            "text/html": [
              "<div id=\"M86cd438e37bf4a66906ae66439babee0-cont\"><div id=\"M86cd438e37bf4a66906ae66439babee0\" style=\"width:600px;height:300px;border-style:solid;\"></div></div>\n",
              "<script>\n",
              "\n",
              "require(['http://www.xavierdupre.fr/js/svg/svg.min.js','http://www.xavierdupre.fr/js/svgpanzoom/svg.draggy.js','http://www.xavierdupre.fr/js/svgpanzoom/svg.pan-zoom.min.js'], function() { \n",
              "var divElement = document.querySelector('#M86cd438e37bf4a66906ae66439babee0');\n",
              "divElement.innerHTML = '<svg id=\"idrep\">' +\n",
              "        '<rect x=\"10\" y=\"10\" height=\"100\" width=\"100\" ' +\n",
              "        'style=\"stroke:#ff0000; fill: #00ffff\"/>' +\n",
              "        '</svg>';\n",
              "var can = new SVG(\"idrep\").size('600', '300');\n",
              "var nodes = can.group();\n",
              "var g1 = nodes.group().translate(100, 100).draggy();\n",
              "g1.circle(80).fill(\"#C2185B\");\n",
              "nodes.panZoom();\n",
              " });\n",
              "\n",
              "</script>\n"
            ],
            "text/plain": [
              "<jyquickhelper.jspy.render_nb_js.RenderJS at 0x2ead8653cf8>"
            ]
          },
          "execution_count": 2,
          "metadata": {},
          "output_type": "execute_result"
        }
      ],
      "source": [
        "from jyquickhelper import RenderJS\n",
        "css = None\n",
        "libs = ['http://www.xavierdupre.fr/js/svg/svg.min.js',\n",
        "        'http://www.xavierdupre.fr/js/svgpanzoom/svg.draggy.js',\n",
        "        'http://www.xavierdupre.fr/js/svgpanzoom/svg.pan-zoom.min.js']\n",
        "script = \"\"\"\n",
        "var divElement = document.querySelector('#__ID__');\n",
        "divElement.innerHTML = '<svg id=\"idrep\">' +\n",
        "        '<rect x=\"10\" y=\"10\" height=\"100\" width=\"100\" ' +\n",
        "        'style=\"stroke:#ff0000; fill: #00ffff\"/>' +\n",
        "        '</svg>';\n",
        "var can = new SVG(\"idrep\").size('600', '300');\n",
        "var nodes = can.group();\n",
        "var g1 = nodes.group().translate(100, 100).draggy();\n",
        "g1.circle(80).fill(\"#C2185B\");\n",
        "nodes.panZoom();\n",
        "\"\"\"\n",
        "jr = RenderJS(script, css=css, libs=libs, style=\"width:600px;height:300px;border-style:solid;\")\n",
        "jr"
      ]
    },
    {
      "cell_type": "markdown",
      "metadata": {},
      "source": [
        "The ball can be moved, not zoomed. The notebook is probably catching this event."
      ]
    },
    {
      "cell_type": "code",
      "execution_count": 2,
      "metadata": {},
      "outputs": [
        {
          "name": "stdout",
          "output_type": "stream",
          "text": [
            "<div id=\"M86cd438e37bf4a66906ae66439babee0-cont\"><div id=\"M86cd438e37bf4a66906ae66439babee0\" style=\"width:600px;height:300px;border-style:solid;\"></div></div>\n",
            "<script>\n",
            "\n",
            "require(['http://www.xavierdupre.fr/js/svg/svg.min.js','http://www.xavierdupre.fr/js/svgpanzoom/svg.draggy.js','http://www.xavierdupre.fr/js/svgpanzoom/svg.pan-zoom.min.js'], function() { \n",
            "var divElement = document.querySelector('#M86cd438e37bf4a66906ae66439babee0');\n",
            "divElement.innerHTML = '<svg id=\"idrep\">' +\n",
            "        '<rect x=\"10\" y=\"10\" height=\"100\" width=\"100\" ' +\n",
            "        'style=\"stroke:#ff0000; fill: #00ffff\"/>' +\n",
            "        '</svg>';\n",
            "var can = new SVG(\"idrep\").size('600', '300');\n",
            "var nodes = can.group();\n",
            "var g1 = nodes.group().translate(100, 100).draggy();\n",
            "g1.circle(80).fill(\"#C2185B\");\n",
            "nodes.panZoom();\n",
            " });\n",
            "\n",
            "</script>\n",
            "\n"
          ]
        }
      ],
      "source": [
        "print(jr._repr_html_())"
      ]
    },
    {
      "cell_type": "code",
      "execution_count": 3,
      "metadata": {},
      "outputs": [],
      "source": []
    }
  ],
  "metadata": {
    "kernelspec": {
      "display_name": "Python 3",
      "language": "python",
      "name": "python3"
    },
    "language_info": {
      "codemirror_mode": {
        "name": "ipython",
        "version": 3
      },
      "file_extension": ".py",
      "mimetype": "text/x-python",
      "name": "python",
      "nbconvert_exporter": "python",
      "pygments_lexer": "ipython3",
      "version": "3.7.2"
    }
  },
  "nbformat": 4,
  "nbformat_minor": 1
}