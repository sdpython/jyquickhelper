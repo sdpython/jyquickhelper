{
  "cells": [
    {
      "cell_type": "markdown",
      "metadata": {},
      "source": [
        "# Use a local javascript file in a notebook.\n",
        "\n",
        "The notebook saves a custom javascript file and reuses it. Freely inspired from [Jupyter Notebook - javascript](http://jupyter-notebook.readthedocs.io/en/stable/examples/Notebook/JavaScript%20Notebook%20Extensions.html#Back-to-theory)."
      ]
    },
    {
      "cell_type": "code",
      "execution_count": 1,
      "metadata": {},
      "outputs": [],
      "source": [
        "script = \"\"\"\n",
        "modify_demo = function(document, tagid) {\n",
        "    var zone = document.getElementById(tagid);\n",
        "    var student = new Array();\n",
        "    student[1]=23;\n",
        "    student[2]=34;\n",
        "    student[3]=67;\n",
        "    student[4]=76;\n",
        "    student[5]=51;\n",
        "    student[6]=72;\n",
        "    zone.innerHTML = \"<b>Student results</b>\";\n",
        "    zone.innerHTML += \"<ul>\";\n",
        "    var numStudents=0;\n",
        "    var sum=0;\n",
        "    var ans=0;\n",
        "    for(var i in student){\n",
        "        zone.innerHTML += \"<li>Student \"+i+\": \"+student[i]+\"% (2)\";\n",
        "        numStudents++;\n",
        "        sum=sum+student[i];\n",
        "    }\n",
        "    zone.innerHTML += \"</ul>\";\n",
        "    ans=Math.round(sum/numStudents);\n",
        "    zone.innerHTML += \"student average is \"+ans+\"% -\";\n",
        "};\n",
        "\"\"\""
      ]
    },
    {
      "cell_type": "code",
      "execution_count": 2,
      "metadata": {},
      "outputs": [],
      "source": [
        "with open('custom_demo.js', \"w\") as f:\n",
        "    f.write(script)"
      ]
    },
    {
      "cell_type": "markdown",
      "metadata": {},
      "source": [
        "We save the file in the local folder."
      ]
    },
    {
      "cell_type": "code",
      "execution_count": 3,
      "metadata": {},
      "outputs": [
        {
          "data": {
            "text/plain": [
              "['custom_demo.js', 'renderjson.js', 'vis.min.js', 'viz-lite.js', 'viz.js']"
            ]
          },
          "execution_count": 4,
          "metadata": {},
          "output_type": "execute_result"
        }
      ],
      "source": [
        "import os\n",
        "[_ for _ in os.listdir(os.getcwd()) if '.js' in _]"
      ]
    },
    {
      "cell_type": "code",
      "execution_count": 4,
      "metadata": {},
      "outputs": [
        {
          "data": {
            "text/html": [
              "\n",
              "<div id=\"myfirstid\">empty</div>\n"
            ],
            "text/plain": [
              "<IPython.core.display.HTML object>"
            ]
          },
          "metadata": {},
          "output_type": "display_data"
        }
      ],
      "source": [
        "%%html\n",
        "\n",
        "<div id=\"myfirstid\">empty</div>"
      ]
    },
    {
      "cell_type": "code",
      "execution_count": 5,
      "metadata": {},
      "outputs": [
        {
          "data": {
            "text/html": [
              "\n",
              "<script src=\"custom_demo.js\"></script>\n",
              "<script>\n",
              "modify_demo(document, \"myfirstid\");\n",
              "</script>\n"
            ],
            "text/plain": [
              "<IPython.core.display.HTML object>"
            ]
          },
          "metadata": {},
          "output_type": "display_data"
        }
      ],
      "source": [
        "%%html\n",
        "\n",
        "<script src=\"custom_demo.js\"></script>\n",
        "<script>\n",
        "modify_demo(document, \"myfirstid\");\n",
        "</script>"
      ]
    },
    {
      "cell_type": "markdown",
      "metadata": {},
      "source": [
        "The notebook is picking the javascript file inside the current folder."
      ]
    },
    {
      "cell_type": "code",
      "execution_count": 6,
      "metadata": {},
      "outputs": [],
      "source": []
    }
  ],
  "metadata": {
    "kernelspec": {
      "display_name": "Python 3",
      "language": "python",
      "name": "python3"
    },
    "language_info": {
      "codemirror_mode": {
        "name": "ipython",
        "version": 3
      },
      "file_extension": ".py",
      "mimetype": "text/x-python",
      "name": "python",
      "nbconvert_exporter": "python",
      "pygments_lexer": "ipython3",
      "version": "3.7.2"
    }
  },
  "nbformat": 4,
  "nbformat_minor": 2
}