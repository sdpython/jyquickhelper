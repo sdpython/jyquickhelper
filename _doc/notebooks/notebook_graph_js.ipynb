{
  "cells": [
    {
      "cell_type": "markdown",
      "metadata": {},
      "source": [
        "# Notebook, Graph and Javascript"
      ]
    },
    {
      "cell_type": "code",
      "execution_count": null,
      "metadata": {
        "collapsed": false
      },
      "outputs": [
        {
          "data": {
            "text/html": [
              "<div id=\"my_id_menu_nb\">run previous cell, wait for 2 seconds</div>\n",
              "<script>\n",
              "function repeat_indent_string(n){\n",
              "    var a = \"\" ;\n",
              "    for ( ; n > 0 ; --n) {\n",
              "        a += \"    \";\n",
              "    }\n",
              "    return a;\n",
              "}\n",
              "var update_menu_string = function(begin, lfirst, llast, sformat, send, keep_item) {\n",
              "    var anchors = document.getElementsByClassName(\"section\");\n",
              "    if (anchors.length == 0) {\n",
              "        anchors = document.getElementsByClassName(\"text_cell_render rendered_html\");\n",
              "    }\n",
              "    var i,t;\n",
              "    var text_menu = begin;\n",
              "    var text_memo = \"<pre>\\nlength:\" + anchors.length + \"\\n\";\n",
              "    var ind = \"\";\n",
              "    var memo_level = 1;\n",
              "    var href;\n",
              "    var tags = [];\n",
              "    var main_item = 0;\n",
              "    for (i = 0; i <= llast; i++) {\n",
              "        tags.push(\"h\" + i);\n",
              "    }\n",
              "\n",
              "    for (i = 0; i < anchors.length; i++) {\n",
              "        text_memo += \"**\" + anchors[i].id + \"--\\n\";\n",
              "\n",
              "        var child = null;\n",
              "        for(t = 0; t < tags.length; t++) {\n",
              "            var r = anchors[i].getElementsByTagName(tags[t]);\n",
              "            if (r.length > 0) {\n",
              "child = r[0];\n",
              "break;\n",
              "            }\n",
              "        }\n",
              "        if (child == null){\n",
              "            text_memo += \"null\\n\";\n",
              "            continue;\n",
              "        }\n",
              "        if (anchors[i].hasAttribute(\"id\")) {\n",
              "            // when converted in RST\n",
              "            href = anchors[i].id;\n",
              "            text_memo += \"#1-\" + href;\n",
              "            // passer \u00e0 child suivant (le chercher)\n",
              "        }\n",
              "        else if (child.hasAttribute(\"id\")) {\n",
              "            // in a notebook\n",
              "            href = child.id;\n",
              "            text_memo += \"#2-\" + href;\n",
              "        }\n",
              "        else {\n",
              "            text_memo += \"#3-\" + \"*\" + \"\\n\";\n",
              "            continue;\n",
              "        }\n",
              "        var title = child.textContent;\n",
              "        var level = parseInt(child.tagName.substring(1,2));\n",
              "\n",
              "        text_memo += \"--\" + level + \"?\" + lfirst + \"--\" + title + \"\\n\";\n",
              "\n",
              "        if ((level < lfirst) || (level > llast)) {\n",
              "            continue ;\n",
              "        }\n",
              "        if (title.endsWith('\u00b6')) {\n",
              "            title = title.substring(0,title.length-1).replace(\"<\", \"&lt;\").replace(\">\", \"&gt;\").replace(\"&\", \"&amp;\")\n",
              "        }\n",
              "\n",
              "        if (title.length == 0) {\n",
              "            continue;\n",
              "        }\n",
              "\n",
              "        while (level < memo_level) {\n",
              "            text_menu += \"</ul>\\n\";\n",
              "            memo_level -= 1;\n",
              "        }\n",
              "        if (level == lfirst) {\n",
              "            main_item += 1;\n",
              "        }\n",
              "        if (keep_item != -1 && main_item != keep_item + 1) {\n",
              "            // alert(main_item + \" - \" + level + \" - \" + keep_item);\n",
              "            continue;\n",
              "        }\n",
              "        while (level > memo_level) {\n",
              "            text_menu += \"<ul>\\n\";\n",
              "            memo_level += 1;\n",
              "        }\n",
              "        text_menu += repeat_indent_string(level-2) + sformat.replace(\"__HREF__\", href).replace(\"__TITLE__\", title);\n",
              "    }\n",
              "    while (1 < memo_level) {\n",
              "        text_menu += \"</ul>\\n\";\n",
              "        memo_level -= 1;\n",
              "    }\n",
              "    text_menu += send;\n",
              "    //text_menu += \"\\n\" + text_memo;\n",
              "    return text_menu;\n",
              "};\n",
              "var update_menu = function() {\n",
              "    var sbegin = \"\";\n",
              "    var sformat = '<li><a href=\"#__HREF__\">__TITLE__</a></li>';\n",
              "    var send = \"\";\n",
              "    var keep_item = -1;\n",
              "    var text_menu = update_menu_string(sbegin, 2, 4, sformat, send, keep_item);\n",
              "    var menu = document.getElementById(\"my_id_menu_nb\");\n",
              "    menu.innerHTML=text_menu;\n",
              "};\n",
              "window.setTimeout(update_menu,2000);\n",
              "            </script>"
            ],
            "text/plain": [
              "<IPython.core.display.HTML object>"
            ]
          },
          "execution_count": null,
          "metadata": {},
          "output_type": "execute_result"
        }
      ],
      "source": [
        "from jyquickhelper import add_notebook_menu\n",
        "add_notebook_menu()"
      ]
    },
    {
      "cell_type": "markdown",
      "metadata": {},
      "source": [
        "## Morris"
      ]
    },
    {
      "cell_type": "markdown",
      "metadata": {},
      "source": [
        "We try to use the library [morris](http://morrisjs.github.io/morris.js/), we try to replicate the example from the page [getting-started](http://morrisjs.github.io/morris.js/#getting-started). Unfortunately, there are somme issues with [Raphael](https://github.com/DmitryBaranovskiy/raphael/), see:\n",
        "\n",
        "* [raphael breaks if loaded via require-js](https://github.com/DmitryBaranovskiy/raphael/issues/524)\n",
        "* [raphael-loader](https://github.com/papakpmartin/raphael-loader)"
      ]
    },
    {
      "cell_type": "code",
      "execution_count": null,
      "metadata": {
        "collapsed": false
      },
      "outputs": [
        {
          "data": {
            "text/html": [
              "<div id=\"5cd2054a-4889-4f5a-81af-27833acc5d3c-css\"><link rel=\"stylesheet\" href=\"//cdnjs.cloudflare.com/ajax/libs/morris.js/0.5.1/morris.css\" type=\"text/css\" /><div id=\"5cd2054a-4889-4f5a-81af-27833acc5d3c\" style=\"height: 100%; width:100%;\"></div></div>"
            ]
          },
          "metadata": {},
          "output_type": "display_data"
        },
        {
          "data": {
            "application/javascript": [
              "require([\"http://cdnjs.cloudflare.com/ajax/libs/raphael/2.1.0/raphael-min.js\",\"http://code.jquery.com/jquery-1.8.2.min.js\",\"http://cdn.oesmith.co.uk/morris-0.5.1.min.js\"], function() { \n",
              "Morris.Line({\n",
              "  element: '5cd2054a-4889-4f5a-81af-27833acc5d3c',\n",
              "  data: [\n",
              "    { y: '2006', a: 100, b: 90 },\n",
              "    { y: '2007', a: 75,  b: 65 },\n",
              "    { y: '2008', a: 50,  b: 40 },\n",
              "    { y: '2009', a: 75,  b: 65 },\n",
              "    { y: '2010', a: 50,  b: 40 },\n",
              "    { y: '2011', a: 75,  b: 65 },\n",
              "    { y: '2012', a: 100, b: 90 }\n",
              "  ],\n",
              "  xkey: 'y',\n",
              "  ykeys: ['a', 'b'],\n",
              "  labels: ['Series A', 'Series B']\n",
              "});\n",
              " }); "
            ]
          },
          "metadata": {},
          "output_type": "display_data"
        }
      ],
      "source": [
        "libs = [\"http://cdnjs.cloudflare.com/ajax/libs/raphael/2.1.0/raphael-min.js\",\n",
        "        \"http://code.jquery.com/jquery-1.8.2.min.js\",\n",
        "        \"http://cdn.oesmith.co.uk/morris-0.5.1.min.js\"]\n",
        "\n",
        "css = [\"//cdnjs.cloudflare.com/ajax/libs/morris.js/0.5.1/morris.css\"]\n",
        "\n",
        "script = \"\"\"\n",
        "Morris.Line({\n",
        "  element: '__ID__',\n",
        "  data: [\n",
        "    { y: '2006', a: 100, b: 90 },\n",
        "    { y: '2007', a: 75,  b: 65 },\n",
        "    { y: '2008', a: 50,  b: 40 },\n",
        "    { y: '2009', a: 75,  b: 65 },\n",
        "    { y: '2010', a: 50,  b: 40 },\n",
        "    { y: '2011', a: 75,  b: 65 },\n",
        "    { y: '2012', a: 100, b: 90 }\n",
        "  ],\n",
        "  xkey: 'y',\n",
        "  ykeys: ['a', 'b'],\n",
        "  labels: ['Series A', 'Series B']\n",
        "});\n",
        "\"\"\"\n",
        "\n",
        "from jyquickhelper import RenderJS\n",
        "RenderJS(script=script, css=css, libs=libs)"
      ]
    },
    {
      "cell_type": "markdown",
      "metadata": {},
      "source": [
        "## Treant\n",
        "\n",
        "See [treant-js](http://www.xavierdupre.fr/app/jupytalk/helpsphinx/notebooks/jsonly_treant.html#jsonlytreantrst)."
      ]
    },
    {
      "cell_type": "markdown",
      "metadata": {},
      "source": [
        "## C3.js\n",
        "\n",
        "To be fixed later."
      ]
    },
    {
      "cell_type": "code",
      "execution_count": null,
      "metadata": {
        "collapsed": false
      },
      "outputs": [
        {
          "data": {
            "text/html": [
              "<div id=\"7ba76a10-6991-432b-98e3-b81fb41ee47b-css\"><link rel=\"stylesheet\" href=\"http://c3js.org/css/c3.css\" type=\"text/css\" /><div id=\"7ba76a10-6991-432b-98e3-b81fb41ee47b\" style=\"height: 100%; width:100%;\"></div></div>"
            ]
          },
          "metadata": {},
          "output_type": "display_data"
        },
        {
          "data": {
            "application/javascript": [
              "require([\"http://d3js.org/d3.v3.min.js\",\"http://c3js.org/js/c3.min-4c5bef8f.js\"], function() { \n",
              "      var chart = c3.generate({\n",
              "        bindto: '#7ba76a10-6991-432b-98e3-b81fb41ee47b',\n",
              "        data: {\n",
              "          columns: [\n",
              "            ['data1', 1030, 1200, 1100, 1400, 1150, 1250],\n",
              "            ['data2', 2130, 2100, 2140, 2200, 2150, 1850]\n",
              "          ],\n",
              "          type: 'bar',\n",
              "          onclick: function (d, element) { console.log(\"onclick\", d, element); },\n",
              "          onmouseover: function (d) { console.log(\"onmouseover\", d); },\n",
              "          onmouseout: function (d) { console.log(\"onmouseout\", d); }\n",
              "        },\n",
              "        axis: {\n",
              "          x: {\n",
              "            type: 'categorized'\n",
              "          }\n",
              "        },\n",
              "        bar: {\n",
              "          width: {\n",
              "            ratio: 0.3,\n",
              "          },\n",
              "        }\n",
              "      });\n",
              " }); "
            ]
          },
          "metadata": {},
          "output_type": "display_data"
        }
      ],
      "source": [
        "libs = [\"http://d3js.org/d3.v3.min.js\",\n",
        "        \"http://c3js.org/js/c3.min-4c5bef8f.js\"]\n",
        "\n",
        "css = [\"http://c3js.org/css/c3.css\"]\n",
        "\n",
        "script = \"\"\"\n",
        "      var chart = c3.generate({\n",
        "        bindto: '#__ID__',\n",
        "        data: {\n",
        "          columns: [\n",
        "            ['data1', 1030, 1200, 1100, 1400, 1150, 1250],\n",
        "            ['data2', 2130, 2100, 2140, 2200, 2150, 1850]\n",
        "          ],\n",
        "          type: 'bar',\n",
        "          onclick: function (d, element) { console.log(\"onclick\", d, element); },\n",
        "          onmouseover: function (d) { console.log(\"onmouseover\", d); },\n",
        "          onmouseout: function (d) { console.log(\"onmouseout\", d); }\n",
        "        },\n",
        "        axis: {\n",
        "          x: {\n",
        "            type: 'categorized'\n",
        "          }\n",
        "        },\n",
        "        bar: {\n",
        "          width: {\n",
        "            ratio: 0.3,\n",
        "          },\n",
        "        }\n",
        "      });\n",
        "\"\"\"\n",
        "\n",
        "from jyquickhelper import RenderJS\n",
        "RenderJS(script=script, css=css, libs=libs)"
      ]
    },
    {
      "cell_type": "code",
      "execution_count": null,
      "metadata": {
        "collapsed": false
      },
      "outputs": [
        {
          "data": {
            "application/javascript": [
              "$(\"head\").append($(\"<link/>\").attr({\n",
              "  rel:  \"stylesheet\",\n",
              "  type: \"text/css\",\n",
              "  href: \"http://c3js.org/css/c3.css\"\n",
              "}));\n",
              "$.getScript(\"http://d3js.org/d3.v3.min.js\", function () {\n",
              "$.getScript(\"http://c3js.org/js/c3.min-4c5bef8f.js\", function () {\n",
              "\n",
              " var chart = c3.generate({\n",
              "        bindto: '#dd',\n",
              "        data: {\n",
              "          columns: [\n",
              "            ['data1', 1030, 1200, 1100, 1400, 1150, 1250],\n",
              "            ['data2', 2130, 2100, 2140, 2200, 2150, 1850]\n",
              "          ],\n",
              "          type: 'bar',\n",
              "          onclick: function (d, element) { console.log(\"onclick\", d, element); },\n",
              "          onmouseover: function (d) { console.log(\"onmouseover\", d); },\n",
              "          onmouseout: function (d) { console.log(\"onmouseout\", d); }\n",
              "        },\n",
              "        axis: {\n",
              "          x: {\n",
              "            type: 'categorized'\n",
              "          }\n",
              "        },\n",
              "        bar: {\n",
              "          width: {\n",
              "            ratio: 0.3,\n",
              "          },\n",
              "        }\n",
              "      });\n",
              "});\n",
              "});\n"
            ],
            "text/plain": [
              "<IPython.core.display.Javascript object>"
            ]
          },
          "metadata": {},
          "output_type": "display_data"
        },
        {
          "data": {
            "text/html": [
              "\n",
              "    <div id=\"dd\"></div>"
            ],
            "text/plain": [
              "<IPython.core.display.HTML object>"
            ]
          },
          "metadata": {},
          "output_type": "display_data"
        }
      ],
      "source": [
        "from IPython.display import display, HTML, Javascript\n",
        "display(Javascript(\"\"\"\n",
        " var chart = c3.generate({\n",
        "        bindto: '#dd',\n",
        "        data: {\n",
        "          columns: [\n",
        "            ['data1', 1030, 1200, 1100, 1400, 1150, 1250],\n",
        "            ['data2', 2130, 2100, 2140, 2200, 2150, 1850]\n",
        "          ],\n",
        "          type: 'bar',\n",
        "          onclick: function (d, element) { console.log(\"onclick\", d, element); },\n",
        "          onmouseover: function (d) { console.log(\"onmouseover\", d); },\n",
        "          onmouseout: function (d) { console.log(\"onmouseout\", d); }\n",
        "        },\n",
        "        axis: {\n",
        "          x: {\n",
        "            type: 'categorized'\n",
        "          }\n",
        "        },\n",
        "        bar: {\n",
        "          width: {\n",
        "            ratio: 0.3,\n",
        "          },\n",
        "        }\n",
        "      });\n",
        "\"\"\", lib=libs, css=css))             \n",
        "display(HTML(\"\"\"\n",
        "    <div id=\"dd\"></div>\"\"\"))"
      ]
    },
    {
      "cell_type": "code",
      "execution_count": null,
      "metadata": {
        "collapsed": true
      },
      "outputs": [],
      "source": []
    }
  ],
  "metadata": {
    "kernelspec": {
      "display_name": "Python 3",
      "language": "python",
      "name": "python3"
    },
    "language_info": {
      "codemirror_mode": {
        "name": "ipython",
        "version": 3
      },
      "file_extension": ".py",
      "mimetype": "text/x-python",
      "name": "python",
      "nbconvert_exporter": "python",
      "pygments_lexer": "ipython3",
      "version": "3.5.0"
    }
  },
  "nbformat": 4,
  "nbformat_minor": 1
}