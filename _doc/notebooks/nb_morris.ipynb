{
  "cells": [
    {
      "cell_type": "markdown",
      "metadata": {},
      "source": [
        "# Javascript library in a notebook: morris\n",
        "\n",
        "We try to use the library [morris.js](http://morrisjs.github.io/morris.js/), we try to replicate the example from the page [getting-started](http://morrisjs.github.io/morris.js/#getting-started). Unfortunately, there are somme issues with [raphael.js](https://github.com/DmitryBaranovskiy/raphael/), see:\n",
        "\n",
        "* [raphael breaks if loaded via require-js](https://github.com/DmitryBaranovskiy/raphael/issues/524)\n",
        "* [raphael-loader](https://github.com/papakpmartin/raphael-loader)\n",
        "\n",
        "So I reused one version of Raphael which seemed to work well in a previous talk: [treant-je](http://www.xavierdupre.fr/app/jupytalk/helpsphinx/notebooks/jsonly_treant.html)."
      ]
    },
    {
      "cell_type": "code",
      "execution_count": 1,
      "metadata": {},
      "outputs": [],
      "source": [
        "libs = [\"http://fperucic.github.io/treant-js/vendor/raphael.js\",\n",
        "        \"http://code.jquery.com/jquery-1.8.2.min.js\",\n",
        "        \"https://cdnjs.cloudflare.com/ajax/libs/morris.js/0.5.1/morris.min.js\"]\n",
        "\n",
        "css = [\"https://cdnjs.cloudflare.com/ajax/libs/morris.js/0.5.1/morris.css\"]\n",
        "\n",
        "script = \"\"\"\n",
        "Morris.Line({\n",
        "  element: '__ID__',\n",
        "  data: [\n",
        "    { y: '2006', a: 100, b: 90 },\n",
        "    { y: '2007', a: 75,  b: 65 },\n",
        "    { y: '2008', a: 50,  b: 40 },\n",
        "    { y: '2009', a: 75,  b: 65 },\n",
        "    { y: '2010', a: 50,  b: 40 },\n",
        "    { y: '2011', a: 75,  b: 65 },\n",
        "    { y: '2012', a: 100, b: 90 }\n",
        "  ],\n",
        "  xkey: 'y',\n",
        "  ykeys: ['a', 'b'],\n",
        "  labels: ['Series A', 'Series B']\n",
        "});\n",
        "\"\"\""
      ]
    },
    {
      "cell_type": "code",
      "execution_count": 2,
      "metadata": {},
      "outputs": [
        {
          "name": "stdout",
          "output_type": "stream",
          "text": [
            "Url not found: returned code=403 for 'https://cdnjs.cloudflare.com/ajax/libs/morris.js/0.5.1/morris.css'\n"
          ]
        }
      ],
      "source": [
        "from jyquickhelper import RenderJS\n",
        "try:\n",
        "    r = RenderJS(script=script, css=css, libs=libs)\n",
        "except Exception as e:\n",
        "    print(e)\n",
        "    r = None\n",
        "r"
      ]
    },
    {
      "cell_type": "markdown",
      "metadata": {},
      "source": [
        "The library is nice but it does not play very nice when the notebook is converted into RST. It works better when it is converted into HTML."
      ]
    },
    {
      "cell_type": "code",
      "execution_count": 3,
      "metadata": {},
      "outputs": [],
      "source": []
    },
    {
      "cell_type": "code",
      "execution_count": 4,
      "metadata": {},
      "outputs": [],
      "source": []
    }
  ],
  "metadata": {
    "kernelspec": {
      "display_name": "Python 3",
      "language": "python",
      "name": "python3"
    }
  },
  "nbformat": 4,
  "nbformat_minor": 1
}