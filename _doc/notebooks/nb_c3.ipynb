{
  "cells": [
    {
      "cell_type": "markdown",
      "metadata": {},
      "source": [
        "# Javascript library in a notebook: c3\n",
        "\n",
        "The following cell should show a [c3.js](http://c3js.org/) graph. The results depends on the browser. It works fine on chrome."
      ]
    },
    {
      "cell_type": "code",
      "execution_count": 1,
      "metadata": {},
      "outputs": [],
      "source": [
        "script = \"\"\"\n",
        "var chart = c3.generate({\n",
        "    bindto: '#__ID__',\n",
        "    data: {\n",
        "        columns: [\n",
        "            ['data1', 30, 200, 100, 400, 150, 250],\n",
        "            ['data2', 50, 20, 10, 40, 15, 25]\n",
        "        ]\n",
        "    }\n",
        "});\n",
        "\n",
        "setTimeout(function () {\n",
        "    chart.load({\n",
        "        columns: [\n",
        "            ['data1', 230, 190, 300, 500, 300, 400]\n",
        "        ]\n",
        "    });\n",
        "}, 1000);\n",
        "\n",
        "setTimeout(function () {\n",
        "    chart.load({\n",
        "        columns: [\n",
        "            ['data3', 130, 150, 200, 300, 200, 100]\n",
        "        ]\n",
        "    });\n",
        "}, 1500);\n",
        "\n",
        "setTimeout(function () {\n",
        "    chart.unload({\n",
        "        ids: 'data1'\n",
        "    });\n",
        "}, 2000);\n",
        "\n",
        "\"\"\""
      ]
    },
    {
      "cell_type": "markdown",
      "metadata": {},
      "source": [
        "The script does not use the latest version of [d3.js](https://d3js.org/). See [C3JS - Cannot read property 'category10' of undefined](https://stackoverflow.com/questions/38344643/c3js-cannot-read-property-category10-of-undefined)."
      ]
    },
    {
      "cell_type": "code",
      "execution_count": 2,
      "metadata": {},
      "outputs": [
        {
          "data": {
            "text/html": [
              "<div id=\"M8d2932c468e0429b88f4545196c4ce78-css\"><link rel=\"stylesheet\" href=\"https://cdnjs.cloudflare.com/ajax/libs/c3/0.4.21/c3.min.css\" type=\"text/css\" /><div id=\"M8d2932c468e0429b88f4545196c4ce78\" style=\"height:100%;width:100%;\"></div></div>\n",
              "<script>\n",
              "require.config({\n",
              "paths:{\n",
              "'d3':'https://cdnjs.cloudflare.com/ajax/libs/d3/3.5.17/d3.min',\n",
              "'c3':'https://cdnjs.cloudflare.com/ajax/libs/c3/0.4.21/c3.min',\n",
              "},\n",
              "shim:{\n",
              "'c3':{'deps':['d3'],'exports':'c3'},\n",
              "'d3':{'exports':'d3'},\n",
              "},\n",
              "});\n",
              "\n",
              "require(['d3','c3'], function(d3,c3) { \n",
              "var chart = c3.generate({\n",
              "    bindto: '#M8d2932c468e0429b88f4545196c4ce78',\n",
              "    data: {\n",
              "        columns: [\n",
              "            ['data1', 30, 200, 100, 400, 150, 250],\n",
              "            ['data2', 50, 20, 10, 40, 15, 25]\n",
              "        ]\n",
              "    }\n",
              "});\n",
              "\n",
              "setTimeout(function () {\n",
              "    chart.load({\n",
              "        columns: [\n",
              "            ['data1', 230, 190, 300, 500, 300, 400]\n",
              "        ]\n",
              "    });\n",
              "}, 1000);\n",
              "\n",
              "setTimeout(function () {\n",
              "    chart.load({\n",
              "        columns: [\n",
              "            ['data3', 130, 150, 200, 300, 200, 100]\n",
              "        ]\n",
              "    });\n",
              "}, 1500);\n",
              "\n",
              "setTimeout(function () {\n",
              "    chart.unload({\n",
              "        ids: 'data1'\n",
              "    });\n",
              "}, 2000);\n",
              "\n",
              " });\n",
              "\n",
              "</script>\n"
            ],
            "text/plain": [
              "<jyquickhelper.javascript_helper.RenderJS at 0x1db76bccfd0>"
            ]
          },
          "execution_count": 3,
          "metadata": {},
          "output_type": "execute_result"
        }
      ],
      "source": [
        "from jyquickhelper import RenderJS\n",
        "css = [\"https://cdnjs.cloudflare.com/ajax/libs/c3/0.4.21/c3.min.css\"]\n",
        "jr = RenderJS(script, css=css, libs = [\n",
        "                dict(path=\"https://cdnjs.cloudflare.com/ajax/libs/d3/3.5.17/d3.min.js\",\n",
        "                     name=\"d3\", exports=\"d3\"),\n",
        "                dict(path=\"https://cdnjs.cloudflare.com/ajax/libs/c3/0.4.21/c3.min.js\",\n",
        "                     name=\"c3\", exports=\"c3\", deps=[\"d3\"])])\n",
        "jr"
      ]
    },
    {
      "cell_type": "markdown",
      "metadata": {},
      "source": [
        "Here is the code it produces:"
      ]
    },
    {
      "cell_type": "code",
      "execution_count": 3,
      "metadata": {},
      "outputs": [
        {
          "name": "stdout",
          "output_type": "stream",
          "text": [
            "<div id=\"M8d2932c468e0429b88f4545196c4ce78-css\"><link rel=\"stylesheet\" href=\"https://cdnjs.cloudflare.com/ajax/libs/c3/0.4.21/c3.min.css\" type=\"text/css\" /><div id=\"M8d2932c468e0429b88f4545196c4ce78\" style=\"height:100%;width:100%;\"></div></div>\n"
          ]
        }
      ],
      "source": [
        "print(jr.generate_html()[0])"
      ]
    },
    {
      "cell_type": "code",
      "execution_count": 4,
      "metadata": {},
      "outputs": [
        {
          "name": "stdout",
          "output_type": "stream",
          "text": [
            "require.config({\n",
            "paths:{\n",
            "'d3':'https://cdnjs.cloudflare.com/ajax/libs/d3/3.5.17/d3.min',\n",
            "'c3':'https://cdnjs.cloudflare.com/ajax/libs/c3/0.4.21/c3.min',\n",
            "},\n",
            "shim:{\n",
            "'c3':{'deps':['d3'],'exports':'c3'},\n",
            "'d3':{'exports':'d3'},\n",
            "},\n",
            "});\n",
            "\n",
            "require(['d3','c3'], function(d3,c3) { \n",
            "var chart = c3.generate({\n",
            "    bindto: '#M8d2932c468e0429b88f4545196c4ce78',\n",
            "    data: {\n",
            "        columns: [\n",
            "            ['data1', 30, 200, 100, 400, 150, 250],\n",
            "            ['data2', 50, 20, 10, 40, 15, 25]\n",
            "        ]\n",
            "    }\n",
            "});\n",
            "\n",
            "setTimeout(function () {\n",
            "    chart.load({\n",
            "        columns: [\n",
            "            ['data1', 230, 190, 300, 500, 300, 400]\n",
            "        ]\n",
            "    });\n",
            "}, 1000);\n",
            "\n",
            "setTimeout(function () {\n",
            "    chart.load({\n",
            "        columns: [\n",
            "            ['data3', 130, 150, 200, 300, 200, 100]\n",
            "        ]\n",
            "    });\n",
            "}, 1500);\n",
            "\n",
            "setTimeout(function () {\n",
            "    chart.unload({\n",
            "        ids: 'data1'\n",
            "    });\n",
            "}, 2000);\n",
            "\n",
            " });\n",
            "\n"
          ]
        }
      ],
      "source": [
        "print(jr.generate_html()[1])"
      ]
    },
    {
      "cell_type": "code",
      "execution_count": 5,
      "metadata": {},
      "outputs": [],
      "source": []
    },
    {
      "cell_type": "code",
      "execution_count": 6,
      "metadata": {},
      "outputs": [],
      "source": []
    },
    {
      "cell_type": "code",
      "execution_count": 7,
      "metadata": {},
      "outputs": [],
      "source": []
    }
  ],
  "metadata": {
    "kernelspec": {
      "display_name": "Python 3",
      "language": "python",
      "name": "python3"
    },
    "language_info": {
      "codemirror_mode": {
        "name": "ipython",
        "version": 3
      },
      "file_extension": ".py",
      "mimetype": "text/x-python",
      "name": "python",
      "nbconvert_exporter": "python",
      "pygments_lexer": "ipython3",
      "version": "3.6.4"
    }
  },
  "nbformat": 4,
  "nbformat_minor": 1
}