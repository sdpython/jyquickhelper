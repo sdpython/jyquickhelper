{
  "cells": [
    {
      "cell_type": "markdown",
      "metadata": {},
      "source": [
        "# Notebook, HTML, SVG, Javascript"
      ]
    },
    {
      "cell_type": "code",
      "execution_count": null,
      "metadata": {
        "collapsed": false
      },
      "outputs": [
        {
          "data": {
            "text/html": [
              "<div id=\"my_id_menu_nb\">run previous cell, wait for 2 seconds</div>\n",
              "<script>\n",
              "function repeat_indent_string(n){\n",
              "    var a = \"\" ;\n",
              "    for ( ; n > 0 ; --n) {\n",
              "        a += \"    \";\n",
              "    }\n",
              "    return a;\n",
              "}\n",
              "var update_menu_string = function(begin, lfirst, llast, sformat, send, keep_item) {\n",
              "    var anchors = document.getElementsByClassName(\"section\");\n",
              "    if (anchors.length == 0) {\n",
              "        anchors = document.getElementsByClassName(\"text_cell_render rendered_html\");\n",
              "    }\n",
              "    var i,t;\n",
              "    var text_menu = begin;\n",
              "    var text_memo = \"<pre>\\nlength:\" + anchors.length + \"\\n\";\n",
              "    var ind = \"\";\n",
              "    var memo_level = 1;\n",
              "    var href;\n",
              "    var tags = [];\n",
              "    var main_item = 0;\n",
              "    for (i = 0; i <= llast; i++) {\n",
              "        tags.push(\"h\" + i);\n",
              "    }\n",
              "\n",
              "    for (i = 0; i < anchors.length; i++) {\n",
              "        text_memo += \"**\" + anchors[i].id + \"--\\n\";\n",
              "\n",
              "        var child = null;\n",
              "        for(t = 0; t < tags.length; t++) {\n",
              "            var r = anchors[i].getElementsByTagName(tags[t]);\n",
              "            if (r.length > 0) {\n",
              "child = r[0];\n",
              "break;\n",
              "            }\n",
              "        }\n",
              "        if (child == null){\n",
              "            text_memo += \"null\\n\";\n",
              "            continue;\n",
              "        }\n",
              "        if (anchors[i].hasAttribute(\"id\")) {\n",
              "            // when converted in RST\n",
              "            href = anchors[i].id;\n",
              "            text_memo += \"#1-\" + href;\n",
              "            // passer \u00e0 child suivant (le chercher)\n",
              "        }\n",
              "        else if (child.hasAttribute(\"id\")) {\n",
              "            // in a notebook\n",
              "            href = child.id;\n",
              "            text_memo += \"#2-\" + href;\n",
              "        }\n",
              "        else {\n",
              "            text_memo += \"#3-\" + \"*\" + \"\\n\";\n",
              "            continue;\n",
              "        }\n",
              "        var title = child.textContent;\n",
              "        var level = parseInt(child.tagName.substring(1,2));\n",
              "\n",
              "        text_memo += \"--\" + level + \"?\" + lfirst + \"--\" + title + \"\\n\";\n",
              "\n",
              "        if ((level < lfirst) || (level > llast)) {\n",
              "            continue ;\n",
              "        }\n",
              "        if (title.endsWith('\u00b6')) {\n",
              "            title = title.substring(0,title.length-1).replace(\"<\", \"&lt;\").replace(\">\", \"&gt;\").replace(\"&\", \"&amp;\")\n",
              "        }\n",
              "\n",
              "        if (title.length == 0) {\n",
              "            continue;\n",
              "        }\n",
              "\n",
              "        while (level < memo_level) {\n",
              "            text_menu += \"</ul>\\n\";\n",
              "            memo_level -= 1;\n",
              "        }\n",
              "        if (level == lfirst) {\n",
              "            main_item += 1;\n",
              "        }\n",
              "        if (keep_item != -1 && main_item != keep_item + 1) {\n",
              "            // alert(main_item + \" - \" + level + \" - \" + keep_item);\n",
              "            continue;\n",
              "        }\n",
              "        while (level > memo_level) {\n",
              "            text_menu += \"<ul>\\n\";\n",
              "            memo_level += 1;\n",
              "        }\n",
              "        text_menu += repeat_indent_string(level-2) + sformat.replace(\"__HREF__\", href).replace(\"__TITLE__\", title);\n",
              "    }\n",
              "    while (1 < memo_level) {\n",
              "        text_menu += \"</ul>\\n\";\n",
              "        memo_level -= 1;\n",
              "    }\n",
              "    text_menu += send;\n",
              "    //text_menu += \"\\n\" + text_memo;\n",
              "    return text_menu;\n",
              "};\n",
              "var update_menu = function() {\n",
              "    var sbegin = \"\";\n",
              "    var sformat = '<li><a href=\"#__HREF__\">__TITLE__</a></li>';\n",
              "    var send = \"\";\n",
              "    var keep_item = -1;\n",
              "    var text_menu = update_menu_string(sbegin, 2, 4, sformat, send, keep_item);\n",
              "    var menu = document.getElementById(\"my_id_menu_nb\");\n",
              "    menu.innerHTML=text_menu;\n",
              "};\n",
              "window.setTimeout(update_menu,2000);\n",
              "            </script>"
            ],
            "text/plain": [
              "<IPython.core.display.HTML object>"
            ]
          },
          "execution_count": null,
          "metadata": {},
          "output_type": "execute_result"
        }
      ],
      "source": [
        "from jyquickhelper import add_notebook_menu\n",
        "add_notebook_menu()"
      ]
    },
    {
      "cell_type": "markdown",
      "metadata": {},
      "source": [
        "## HTML"
      ]
    },
    {
      "cell_type": "code",
      "execution_count": null,
      "metadata": {
        "collapsed": false
      },
      "outputs": [
        {
          "data": {
            "text/html": [
              "\n",
              "<i>italic</i>"
            ],
            "text/plain": [
              "<IPython.core.display.HTML object>"
            ]
          },
          "metadata": {},
          "output_type": "display_data"
        }
      ],
      "source": [
        "%%html\n",
        "\n",
        "<i>italic</i>"
      ]
    },
    {
      "cell_type": "code",
      "execution_count": null,
      "metadata": {
        "collapsed": false
      },
      "outputs": [
        {
          "data": {
            "text/html": [
              "<b>some bold text</b>"
            ],
            "text/plain": [
              "<IPython.core.display.HTML object>"
            ]
          },
          "execution_count": null,
          "metadata": {},
          "output_type": "execute_result"
        }
      ],
      "source": [
        "from IPython.display import HTML\n",
        "HTML(\"<b>some bold text</b>\")"
      ]
    },
    {
      "cell_type": "code",
      "execution_count": null,
      "metadata": {
        "collapsed": false
      },
      "outputs": [
        {
          "data": {
            "text/html": [
              "<b>some bold text</b>"
            ],
            "text/plain": [
              "<IPython.core.display.HTML object>"
            ]
          },
          "metadata": {},
          "output_type": "display_data"
        }
      ],
      "source": [
        "from IPython.display import HTML, display\n",
        "display(HTML(\"<b>some bold text</b>\"))"
      ]
    },
    {
      "cell_type": "markdown",
      "metadata": {},
      "source": [
        "## SVG\n",
        "\n",
        "* [SVG language](http://tutorials.jenkov.com/svg/simple-svg-example.html)"
      ]
    },
    {
      "cell_type": "code",
      "execution_count": null,
      "metadata": {
        "collapsed": false
      },
      "outputs": [
        {
          "data": {
            "image/svg+xml": [
              "<svg>\n",
              "    <rect height=\"100\" style=\"stroke:#ff0000; fill: #00ffff\" width=\"100\" x=\"10\" y=\"10\"/>\n",
              "</svg>"
            ],
            "text/plain": [
              "<IPython.core.display.SVG object>"
            ]
          },
          "metadata": {},
          "output_type": "display_data"
        }
      ],
      "source": [
        "%%svg\n",
        "\n",
        "<svg>\n",
        "    <rect x=\"10\" y=\"10\" height=\"100\" width=\"100\"\n",
        "          style=\"stroke:#ff0000; fill: #00ffff\"/>\n",
        "</svg>"
      ]
    },
    {
      "cell_type": "code",
      "execution_count": null,
      "metadata": {
        "collapsed": false
      },
      "outputs": [
        {
          "data": {
            "image/svg+xml": [
              "<svg>\n",
              "    <rect height=\"100\" style=\"stroke:#ff0000; fill: #0000ff\" width=\"100\" x=\"10\" y=\"10\"/>\n",
              "</svg>"
            ],
            "text/plain": [
              "<IPython.core.display.SVG object>"
            ]
          },
          "execution_count": null,
          "metadata": {},
          "output_type": "execute_result"
        }
      ],
      "source": [
        "from IPython.display import SVG\n",
        "SVG(\"\"\"<svg>\n",
        "    <rect x=\"10\" y=\"10\" height=\"100\" width=\"100\"\n",
        "          style=\"stroke:#ff0000; fill: #0000ff\"/>\n",
        "</svg>\"\"\")"
      ]
    },
    {
      "cell_type": "markdown",
      "metadata": {},
      "source": [
        "## Javascript"
      ]
    },
    {
      "cell_type": "markdown",
      "metadata": {},
      "source": [
        "### with magic commands\n",
        "\n",
        "Usually, the javascript needs a zone in the page where the output will be inserted. That's what the next cell does."
      ]
    },
    {
      "cell_type": "code",
      "execution_count": null,
      "metadata": {
        "collapsed": false
      },
      "outputs": [
        {
          "data": {
            "text/html": [
              "\n",
              "<div id=\"myfirstid\"></div>"
            ],
            "text/plain": [
              "<IPython.core.display.HTML object>"
            ]
          },
          "metadata": {},
          "output_type": "display_data"
        }
      ],
      "source": [
        "%%html\n",
        "\n",
        "<div id=\"myfirstid\"></div>"
      ]
    },
    {
      "cell_type": "markdown",
      "metadata": {},
      "source": [
        "This cell will populate the zone just above."
      ]
    },
    {
      "cell_type": "code",
      "execution_count": null,
      "metadata": {
        "collapsed": false
      },
      "outputs": [
        {
          "data": {
            "application/javascript": [
              "\n",
              "var zone = document.getElementById(\"myfirstid\");\n",
              "\n",
              "var student = new Array();\n",
              "student[1]=23;\n",
              "student[2]=34;\n",
              "student[3]=67;\n",
              "student[4]=76;\n",
              "student[5]=51;\n",
              "student[6]=72;\n",
              "zone.innerHTML = \"<b>Student results</b>\";\n",
              "zone.innerHTML += \"<ul>\";\n",
              "var numStudents=0;\n",
              "var sum=0;\n",
              "var ans=0;\n",
              "for(var i in student){\n",
              "    zone.innerHTML += \"<li>Student \"+i+\": \"+student[i]+\"%\";\n",
              "    numStudents++;\n",
              "    sum=sum+student[i];\n",
              "}\n",
              "zone.innerHTML += \"</ul>\";\n",
              "ans=Math.round(sum/numStudents);\n",
              "zone.innerHTML += \"student average is \"+ans+\"%\";"
            ],
            "text/plain": [
              "<IPython.core.display.Javascript object>"
            ]
          },
          "metadata": {},
          "output_type": "display_data"
        }
      ],
      "source": [
        "%%javascript\n",
        "\n",
        "var zone = document.getElementById(\"myfirstid\");\n",
        "var student = new Array();\n",
        "student[1]=23;\n",
        "student[2]=34;\n",
        "student[3]=67;\n",
        "student[4]=76;\n",
        "student[5]=51;\n",
        "student[6]=72;\n",
        "zone.innerHTML = \"<b>Student results</b>\";\n",
        "zone.innerHTML += \"<ul>\";\n",
        "var numStudents=0;\n",
        "var sum=0;\n",
        "var ans=0;\n",
        "for(var i in student){\n",
        "    zone.innerHTML += \"<li>Student \"+i+\": \"+student[i]+\"%\";\n",
        "    numStudents++;\n",
        "    sum=sum+student[i];\n",
        "}\n",
        "zone.innerHTML += \"</ul>\";\n",
        "ans=Math.round(sum/numStudents);\n",
        "zone.innerHTML += \"student average is \"+ans+\"%\";"
      ]
    },
    {
      "cell_type": "markdown",
      "metadata": {},
      "source": [
        "### with customized objects"
      ]
    },
    {
      "cell_type": "code",
      "execution_count": null,
      "metadata": {
        "collapsed": true
      },
      "outputs": [],
      "source": [
        "from IPython.display import display_html, display_javascript\n",
        "import uuid\n",
        "\n",
        "class MyCustomObject(object):\n",
        "    def __init__(self, width=\"100%\", height=\"100%\", divid=None):\n",
        "        self.uuid = divid if divid else str(uuid.uuid4())\n",
        "        self.width = width\n",
        "        self.height = height\n",
        "\n",
        "    def _ipython_display_(self):\n",
        "        display_html('<div id=\"{}\" style=\"height: {}; width:{};\"></div>'.format(self.uuid, self.width, self.height),\n",
        "                     raw=True)\n",
        "        js = \"\"\"\n",
        "            var zone = document.getElementById(\"myfirstid\");\n",
        "            var student = new Array();\n",
        "            student[1]=23;\n",
        "            student[2]=34;\n",
        "            student[3]=67;\n",
        "            student[4]=76;\n",
        "            student[5]=51;\n",
        "            student[6]=72;\n",
        "            zone.innerHTML = \"<b>Student results</b>\";\n",
        "            zone.innerHTML += \"<ul>\";\n",
        "            var numStudents=0;\n",
        "            var sum=0;\n",
        "            var ans=0;\n",
        "            for(var i in student){\n",
        "                zone.innerHTML += \"<li>Student \"+i+\": \"+student[i]+\"%\";\n",
        "                numStudents++;\n",
        "                sum=sum+student[i];\n",
        "            }\n",
        "            zone.innerHTML += \"</ul>\";\n",
        "            ans=Math.round(sum/numStudents);\n",
        "            zone.innerHTML += \"student average is \"+ans+\"%\";\n",
        "            \"\"\".replace(\"myfirstid\", str(self.uuid))\n",
        "        display_javascript(js, raw=True)"
      ]
    },
    {
      "cell_type": "code",
      "execution_count": null,
      "metadata": {
        "collapsed": false
      },
      "outputs": [
        {
          "data": {
            "text/html": [
              "<div id=\"a0146c41-f6a8-4d78-98c9-f17065498840\" style=\"height: 100%; width:100%;\"></div>"
            ]
          },
          "metadata": {},
          "output_type": "display_data"
        },
        {
          "data": {
            "application/javascript": [
              "\n",
              "            var zone = document.getElementById(\"a0146c41-f6a8-4d78-98c9-f17065498840\");\n",
              "            var student = new Array();\n",
              "            student[1]=23;\n",
              "            student[2]=34;\n",
              "            student[3]=67;\n",
              "            student[4]=76;\n",
              "            student[5]=51;\n",
              "            student[6]=72;\n",
              "            zone.innerHTML = \"<b>Student results</b>\";\n",
              "            zone.innerHTML += \"<ul>\";\n",
              "            var numStudents=0;\n",
              "            var sum=0;\n",
              "            var ans=0;\n",
              "            for(var i in student){\n",
              "                zone.innerHTML += \"<li>Student \"+i+\": \"+student[i]+\"%\";\n",
              "                numStudents++;\n",
              "                sum=sum+student[i];\n",
              "            }\n",
              "            zone.innerHTML += \"</ul>\";\n",
              "            ans=Math.round(sum/numStudents);\n",
              "            zone.innerHTML += \"student average is \"+ans+\"%\";\n",
              "            "
            ]
          },
          "metadata": {},
          "output_type": "display_data"
        }
      ],
      "source": [
        "MyCustomObject()"
      ]
    },
    {
      "cell_type": "markdown",
      "metadata": {},
      "source": [
        "## JSON\n",
        "\n",
        "Inspired from [Pretty JSON Formatting in IPython Notebook](http://stackoverflow.com/questions/18873066/pretty-json-formatting-in-ipython-notebook). We use the trick described just above. The only addition is the use of an external library [renderjson](https://github.com/caldwell/renderjson). The code is here : [json_helper.py](https://github.com/sdpython/jyquickhelper/blob/master/src/jyquickhelper/json_helper.py#L11)."
      ]
    },
    {
      "cell_type": "code",
      "execution_count": null,
      "metadata": {
        "collapsed": false
      },
      "outputs": [
        {
          "data": {
            "text/html": [
              "<div id=\"e02f96e9-9fb0-46ef-813e-c4ac031955d2\" style=\"height: 100%; width:100%;\"></div>"
            ]
          },
          "metadata": {},
          "output_type": "display_data"
        },
        {
          "data": {
            "application/javascript": [
              "\n",
              "        require([\"https://rawgit.com/caldwell/renderjson/master/renderjson.js\"], function() {\n",
              "        document.getElementById('e02f96e9-9fb0-46ef-813e-c4ac031955d2').appendChild(renderjson({\"city\": \"Paris\", \"name\": \"xavier\"}))\n",
              "        }); "
            ]
          },
          "metadata": {},
          "output_type": "display_data"
        }
      ],
      "source": [
        "from jyquickhelper import JSONJS\n",
        "JSONJS(dict(name=\"xavier\", city=\"Paris\"))"
      ]
    },
    {
      "cell_type": "code",
      "execution_count": null,
      "metadata": {
        "collapsed": true
      },
      "outputs": [],
      "source": []
    }
  ],
  "metadata": {
    "kernelspec": {
      "display_name": "Python 3",
      "language": "python",
      "name": "python3"
    },
    "language_info": {
      "codemirror_mode": {
        "name": "ipython",
        "version": 3
      },
      "file_extension": ".py",
      "mimetype": "text/x-python",
      "name": "python",
      "nbconvert_exporter": "python",
      "pygments_lexer": "ipython3",
      "version": "3.5.0"
    }
  },
  "nbformat": 4,
  "nbformat_minor": 1
}