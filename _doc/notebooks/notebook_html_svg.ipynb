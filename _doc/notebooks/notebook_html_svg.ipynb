{
  "cells": [
    {
      "cell_type": "markdown",
      "metadata": {},
      "source": [
        "# Notebook, HTML, SVG, Javascript\n",
        "\n",
        "Display SVG, JSON in a notebook."
      ]
    },
    {
      "cell_type": "code",
      "execution_count": null,
      "metadata": {},
      "outputs": [
        {
          "data": {
            "text/html": [
              "<div id=\"my_id_menu_nb\">run previous cell, wait for 2 seconds</div>\n",
              "<script>\n",
              "function repeat_indent_string(n){\n",
              "    var a = \"\" ;\n",
              "    for ( ; n > 0 ; --n)\n",
              "        a += \"    \";\n",
              "    return a;\n",
              "}\n",
              "var update_menu_string = function(begin, lfirst, llast, sformat, send, keep_item, begin_format, end_format) {\n",
              "    var anchors = document.getElementsByClassName(\"section\");\n",
              "    if (anchors.length == 0) {\n",
              "        anchors = document.getElementsByClassName(\"text_cell_render rendered_html\");\n",
              "    }\n",
              "    var i,t;\n",
              "    var text_menu = begin;\n",
              "    var text_memo = \"<pre>\\nlength:\" + anchors.length + \"\\n\";\n",
              "    var ind = \"\";\n",
              "    var memo_level = 1;\n",
              "    var href;\n",
              "    var tags = [];\n",
              "    var main_item = 0;\n",
              "    var format_open = 0;\n",
              "    for (i = 0; i <= llast; i++)\n",
              "        tags.push(\"h\" + i);\n",
              "\n",
              "    for (i = 0; i < anchors.length; i++) {\n",
              "        text_memo += \"**\" + anchors[i].id + \"--\\n\";\n",
              "\n",
              "        var child = null;\n",
              "        for(t = 0; t < tags.length; t++) {\n",
              "            var r = anchors[i].getElementsByTagName(tags[t]);\n",
              "            if (r.length > 0) {\n",
              "child = r[0];\n",
              "break;\n",
              "            }\n",
              "        }\n",
              "        if (child == null) {\n",
              "            text_memo += \"null\\n\";\n",
              "            continue;\n",
              "        }\n",
              "        if (anchors[i].hasAttribute(\"id\")) {\n",
              "            // when converted in RST\n",
              "            href = anchors[i].id;\n",
              "            text_memo += \"#1-\" + href;\n",
              "            // passer \u00e0 child suivant (le chercher)\n",
              "        }\n",
              "        else if (child.hasAttribute(\"id\")) {\n",
              "            // in a notebook\n",
              "            href = child.id;\n",
              "            text_memo += \"#2-\" + href;\n",
              "        }\n",
              "        else {\n",
              "            text_memo += \"#3-\" + \"*\" + \"\\n\";\n",
              "            continue;\n",
              "        }\n",
              "        var title = child.textContent;\n",
              "        var level = parseInt(child.tagName.substring(1,2));\n",
              "\n",
              "        text_memo += \"--\" + level + \"?\" + lfirst + \"--\" + title + \"\\n\";\n",
              "\n",
              "        if ((level < lfirst) || (level > llast)) {\n",
              "            continue ;\n",
              "        }\n",
              "        if (title.endsWith('\u00b6')) {\n",
              "            title = title.substring(0,title.length-1).replace(\"<\", \"&lt;\")\n",
              "         .replace(\">\", \"&gt;\").replace(\"&\", \"&amp;\");\n",
              "        }\n",
              "        if (title.length == 0) {\n",
              "            continue;\n",
              "        }\n",
              "\n",
              "        while (level < memo_level) {\n",
              "            text_menu += end_format + \"</ul>\\n\";\n",
              "            format_open -= 1;\n",
              "            memo_level -= 1;\n",
              "        }\n",
              "        if (level == lfirst) {\n",
              "            main_item += 1;\n",
              "        }\n",
              "        if (keep_item != -1 && main_item != keep_item + 1) {\n",
              "            // alert(main_item + \" - \" + level + \" - \" + keep_item);\n",
              "            continue;\n",
              "        }\n",
              "        while (level > memo_level) {\n",
              "            text_menu += \"<ul>\\n\";\n",
              "            memo_level += 1;\n",
              "        }\n",
              "        text_menu += repeat_indent_string(level-2);\n",
              "        text_menu += begin_format + sformat.replace(\"__HREF__\", href).replace(\"__TITLE__\", title);\n",
              "        format_open += 1;\n",
              "    }\n",
              "    while (1 < memo_level) {\n",
              "        text_menu += end_format + \"</ul>\\n\";\n",
              "        memo_level -= 1;\n",
              "        format_open -= 1;\n",
              "    }\n",
              "    text_menu += send;\n",
              "    //text_menu += \"\\n\" + text_memo;\n",
              "\n",
              "    while (format_open > 0) {\n",
              "        text_menu += end_format;\n",
              "        format_open -= 1;\n",
              "    }\n",
              "    return text_menu;\n",
              "};\n",
              "var update_menu = function() {\n",
              "    var sbegin = \"\";\n",
              "    var sformat = '<a href=\"#__HREF__\">__TITLE__</a>';\n",
              "    var send = \"\";\n",
              "    var begin_format = '<li>';\n",
              "    var end_format = '</li>';\n",
              "    var keep_item = -1;\n",
              "    var text_menu = update_menu_string(sbegin, 2, 4, sformat, send, keep_item,\n",
              "       begin_format, end_format);\n",
              "    var menu = document.getElementById(\"my_id_menu_nb\");\n",
              "    menu.innerHTML=text_menu;\n",
              "};\n",
              "window.setTimeout(update_menu,2000);\n",
              "            </script>"
            ],
            "text/plain": [
              "<IPython.core.display.HTML object>"
            ]
          },
          "execution_count": null,
          "metadata": {},
          "output_type": "execute_result"
        }
      ],
      "source": [
        "from jyquickhelper import add_notebook_menu\n",
        "add_notebook_menu()"
      ]
    },
    {
      "cell_type": "markdown",
      "metadata": {},
      "source": [
        "## HTML"
      ]
    },
    {
      "cell_type": "code",
      "execution_count": null,
      "metadata": {},
      "outputs": [
        {
          "data": {
            "text/html": [
              "\n",
              "<i>italic</i>"
            ],
            "text/plain": [
              "<IPython.core.display.HTML object>"
            ]
          },
          "metadata": {},
          "output_type": "display_data"
        }
      ],
      "source": [
        "%%html\n",
        "\n",
        "<i>italic</i>"
      ]
    },
    {
      "cell_type": "code",
      "execution_count": null,
      "metadata": {},
      "outputs": [
        {
          "data": {
            "text/html": [
              "<b>some bold text</b>"
            ],
            "text/plain": [
              "<IPython.core.display.HTML object>"
            ]
          },
          "execution_count": null,
          "metadata": {},
          "output_type": "execute_result"
        }
      ],
      "source": [
        "from IPython.display import HTML\n",
        "HTML(\"<b>some bold text</b>\")"
      ]
    },
    {
      "cell_type": "code",
      "execution_count": null,
      "metadata": {},
      "outputs": [
        {
          "data": {
            "text/html": [
              "<b>some bold text</b>"
            ],
            "text/plain": [
              "<IPython.core.display.HTML object>"
            ]
          },
          "metadata": {},
          "output_type": "display_data"
        }
      ],
      "source": [
        "from IPython.display import HTML, display\n",
        "display(HTML(\"<b>some bold text</b>\"))"
      ]
    },
    {
      "cell_type": "markdown",
      "metadata": {},
      "source": [
        "## SVG\n",
        "\n",
        "* [SVG language](http://tutorials.jenkov.com/svg/simple-svg-example.html)"
      ]
    },
    {
      "cell_type": "code",
      "execution_count": null,
      "metadata": {},
      "outputs": [
        {
          "data": {
            "image/svg+xml": [
              "<svg>\n",
              "    <rect height=\"100\" style=\"stroke:#ff0000; fill: #00ffff\" width=\"100\" x=\"10\" y=\"10\"/>\n",
              "</svg>"
            ],
            "text/plain": [
              "<IPython.core.display.SVG object>"
            ]
          },
          "metadata": {},
          "output_type": "display_data"
        }
      ],
      "source": [
        "%%svg\n",
        "\n",
        "<svg>\n",
        "    <rect x=\"10\" y=\"10\" height=\"100\" width=\"100\"\n",
        "          style=\"stroke:#ff0000; fill: #00ffff\"/>\n",
        "</svg>"
      ]
    },
    {
      "cell_type": "code",
      "execution_count": null,
      "metadata": {},
      "outputs": [
        {
          "data": {
            "image/svg+xml": [
              "<svg>\n",
              "    <rect height=\"100\" style=\"stroke:#ff0000; fill: #0000ff\" width=\"100\" x=\"10\" y=\"10\"/>\n",
              "</svg>"
            ],
            "text/plain": [
              "<IPython.core.display.SVG object>"
            ]
          },
          "execution_count": null,
          "metadata": {},
          "output_type": "execute_result"
        }
      ],
      "source": [
        "from IPython.display import SVG\n",
        "SVG(\"\"\"<svg>\n",
        "    <rect x=\"10\" y=\"10\" height=\"100\" width=\"100\"\n",
        "          style=\"stroke:#ff0000; fill: #0000ff\"/>\n",
        "</svg>\"\"\")"
      ]
    },
    {
      "cell_type": "markdown",
      "metadata": {},
      "source": [
        "## Javascript"
      ]
    },
    {
      "cell_type": "markdown",
      "metadata": {},
      "source": [
        "### with magic commands\n",
        "\n",
        "Usually, the javascript needs a zone in the page where the output will be inserted. That's what the next cell does."
      ]
    },
    {
      "cell_type": "code",
      "execution_count": null,
      "metadata": {},
      "outputs": [
        {
          "data": {
            "text/html": [
              "\n",
              "<div id=\"myfirstid\"></div>"
            ],
            "text/plain": [
              "<IPython.core.display.HTML object>"
            ]
          },
          "metadata": {},
          "output_type": "display_data"
        }
      ],
      "source": [
        "%%html\n",
        "\n",
        "<div id=\"myfirstid\"></div>"
      ]
    },
    {
      "cell_type": "markdown",
      "metadata": {},
      "source": [
        "This cell will populate the zone just above. The rendering is not great when the notebook is converted into RST. Look into the HTML conversion."
      ]
    },
    {
      "cell_type": "code",
      "execution_count": null,
      "metadata": {},
      "outputs": [
        {
          "data": {
            "application/javascript": [
              "\n",
              "var zone = document.getElementById(\"myfirstid\");\n",
              "var student = new Array();\n",
              "student[1]=23;\n",
              "student[2]=34;\n",
              "student[3]=67;\n",
              "student[4]=76;\n",
              "student[5]=51;\n",
              "student[6]=72;\n",
              "zone.innerHTML = \"<b>Student results</b>\";\n",
              "zone.innerHTML += \"<ul>\";\n",
              "var numStudents=0;\n",
              "var sum=0;\n",
              "var ans=0;\n",
              "for(var i in student){\n",
              "    zone.innerHTML += \"<li>Student \"+i+\": \"+student[i]+\"%\";\n",
              "    numStudents++;\n",
              "    sum=sum+student[i];\n",
              "}\n",
              "zone.innerHTML += \"</ul>\";\n",
              "ans=Math.round(sum/numStudents);\n",
              "zone.innerHTML += \"student average is \"+ans+\"%\";"
            ],
            "text/plain": [
              "<IPython.core.display.Javascript object>"
            ]
          },
          "metadata": {},
          "output_type": "display_data"
        }
      ],
      "source": [
        "%%javascript\n",
        "\n",
        "var zone = document.getElementById(\"myfirstid\");\n",
        "var student = new Array();\n",
        "student[1]=23;\n",
        "student[2]=34;\n",
        "student[3]=67;\n",
        "student[4]=76;\n",
        "student[5]=51;\n",
        "student[6]=72;\n",
        "zone.innerHTML = \"<b>Student results</b>\";\n",
        "zone.innerHTML += \"<ul>\";\n",
        "var numStudents=0;\n",
        "var sum=0;\n",
        "var ans=0;\n",
        "for(var i in student){\n",
        "    zone.innerHTML += \"<li>Student \"+i+\": \"+student[i]+\"%\";\n",
        "    numStudents++;\n",
        "    sum=sum+student[i];\n",
        "}\n",
        "zone.innerHTML += \"</ul>\";\n",
        "ans=Math.round(sum/numStudents);\n",
        "zone.innerHTML += \"student average is \"+ans+\"%\";"
      ]
    },
    {
      "cell_type": "markdown",
      "metadata": {},
      "source": [
        "### with customized objects"
      ]
    },
    {
      "cell_type": "code",
      "execution_count": null,
      "metadata": {
        "collapsed": true
      },
      "outputs": [],
      "source": [
        "from IPython.display import display_html, display_javascript\n",
        "import uuid\n",
        "\n",
        "class MyCustomObject(object):\n",
        "    def __init__(self, width=\"100%\", height=\"100%\", divid=None):\n",
        "        self.uuid = divid if divid else str(uuid.uuid4())\n",
        "        self.width = width\n",
        "        self.height = height\n",
        "\n",
        "    def _ipython_display_(self):\n",
        "        display_html('<div id=\"{}\" style=\"height: {}; width:{};\"></div>'.format(self.uuid, self.width, self.height),\n",
        "                     raw=True)\n",
        "        js = \"\"\"\n",
        "            var zone = document.getElementById(\"myfirstid\");\n",
        "            var student = new Array();\n",
        "            student[1]=23;\n",
        "            student[2]=34;\n",
        "            student[3]=67;\n",
        "            student[4]=76;\n",
        "            student[5]=51;\n",
        "            student[6]=72;\n",
        "            zone.innerHTML = \"<b>Student results</b>\";\n",
        "            zone.innerHTML += \"<ul>\";\n",
        "            var numStudents=0;\n",
        "            var sum=0;\n",
        "            var ans=0;\n",
        "            for(var i in student){\n",
        "                zone.innerHTML += \"<li>Student \"+i+\": \"+student[i]+\"%\";\n",
        "                numStudents++;\n",
        "                sum=sum+student[i];\n",
        "            }\n",
        "            zone.innerHTML += \"</ul>\";\n",
        "            ans=Math.round(sum/numStudents);\n",
        "            zone.innerHTML += \"student average is \"+ans+\"%\";\n",
        "            \"\"\".replace(\"myfirstid\", str(self.uuid))\n",
        "        display_javascript(js, raw=True)"
      ]
    },
    {
      "cell_type": "code",
      "execution_count": null,
      "metadata": {},
      "outputs": [
        {
          "data": {
            "text/html": [
              "<div id=\"21a9027f-5d96-42f9-b487-387befbbc82f\" style=\"height: 100%; width:100%;\"></div>"
            ]
          },
          "metadata": {},
          "output_type": "display_data"
        },
        {
          "data": {
            "application/javascript": [
              "\n",
              "            var zone = document.getElementById(\"21a9027f-5d96-42f9-b487-387befbbc82f\");\n",
              "            var student = new Array();\n",
              "            student[1]=23;\n",
              "            student[2]=34;\n",
              "            student[3]=67;\n",
              "            student[4]=76;\n",
              "            student[5]=51;\n",
              "            student[6]=72;\n",
              "            zone.innerHTML = \"<b>Student results</b>\";\n",
              "            zone.innerHTML += \"<ul>\";\n",
              "            var numStudents=0;\n",
              "            var sum=0;\n",
              "            var ans=0;\n",
              "            for(var i in student){\n",
              "                zone.innerHTML += \"<li>Student \"+i+\": \"+student[i]+\"%\";\n",
              "                numStudents++;\n",
              "                sum=sum+student[i];\n",
              "            }\n",
              "            zone.innerHTML += \"</ul>\";\n",
              "            ans=Math.round(sum/numStudents);\n",
              "            zone.innerHTML += \"student average is \"+ans+\"%\";\n",
              "            "
            ]
          },
          "metadata": {},
          "output_type": "display_data"
        }
      ],
      "source": [
        "MyCustomObject()"
      ]
    },
    {
      "cell_type": "markdown",
      "metadata": {},
      "source": [
        "## JSON\n",
        "\n",
        "Inspired from [Pretty JSON Formatting in IPython Notebook](http://stackoverflow.com/questions/18873066/pretty-json-formatting-in-ipython-notebook). We use the trick described just above. The only addition is the use of an external library [renderjson](https://github.com/caldwell/renderjson). The code is here : [json_helper.py](https://github.com/sdpython/jyquickhelper/blob/master/src/jyquickhelper/json_helper.py#L11)."
      ]
    },
    {
      "cell_type": "code",
      "execution_count": null,
      "metadata": {},
      "outputs": [
        {
          "data": {
            "text/html": [
              "<div id=\"8950585d-d701-4451-965c-1847ddc5cb32\" style=\"height: 100%; width:100%;\"></div>\n",
              "<script>\n",
              "\n",
              "        require([\"https://rawgit.com/caldwell/renderjson/master/renderjson.js\"], function() {\n",
              "        document.getElementById('8950585d-d701-4451-965c-1847ddc5cb32').appendChild(renderjson({\"name\": \"xavier\", \"city\": \"Paris\"}))\n",
              "        }); \n",
              "</script>\n"
            ],
            "text/plain": [
              "<jyquickhelper.json_helper.RenderJSON at 0x229ac7bd710>"
            ]
          },
          "execution_count": null,
          "metadata": {},
          "output_type": "execute_result"
        }
      ],
      "source": [
        "from jyquickhelper import JSONJS\n",
        "JSONJS(dict(name=\"xavier\", city=\"Paris\"), html_only=True)"
      ]
    },
    {
      "cell_type": "code",
      "execution_count": null,
      "metadata": {},
      "outputs": [
        {
          "data": {
            "text/html": [
              "<div id=\"0ed4211c-6276-4093-8cb6-b024f4c2663a\" style=\"height: 100%; width:100%;\"></div>\n",
              "<script>\n",
              "\n",
              "        require([\"https://rawgit.com/caldwell/renderjson/master/renderjson.js\"], function() {\n",
              "        document.getElementById('0ed4211c-6276-4093-8cb6-b024f4c2663a').appendChild(renderjson([{\"page\": 1, \"pages\": 2, \"per_page\": \"50\", \"total\": 52}, [{\"id\": \"ARM\", \"iso2Code\": \"AM\", \"name\": \"Armenia\", \"region\": {\"id\": \"ECS\", \"value\": \"Europe & Central Asia\"}, \"adminregion\": {\"id\": \"ECA\", \"value\": \"Europe & Central Asia (excluding high income)\"}, \"incomeLevel\": {\"id\": \"LMC\", \"value\": \"Lower middle income\"}, \"lendingType\": {\"id\": \"IBD\", \"value\": \"IBRD\"}, \"capitalCity\": \"Yerevan\", \"longitude\": \"44.509\", \"latitude\": \"40.1596\"}, {\"id\": \"BGD\", \"iso2Code\": \"BD\", \"name\": \"Bangladesh\", \"region\": {\"id\": \"SAS\", \"value\": \"South Asia\"}, \"adminregion\": {\"id\": \"SAS\", \"value\": \"South Asia\"}, \"incomeLevel\": {\"id\": \"LMC\", \"value\": \"Lower middle income\"}, \"lendingType\": {\"id\": \"IDX\", \"value\": \"IDA\"}, \"capitalCity\": \"Dhaka\", \"longitude\": \"90.4113\", \"latitude\": \"23.7055\"}, {\"id\": \"BOL\", \"iso2Code\": \"BO\", \"name\": \"Bolivia\", \"region\": {\"id\": \"LCN\", \"value\": \"Latin America & Caribbean \"}, \"adminregion\": {\"id\": \"LAC\", \"value\": \"Latin America & Caribbean (excluding high income)\"}, \"incomeLevel\": {\"id\": \"LMC\", \"value\": \"Lower middle income\"}, \"lendingType\": {\"id\": \"IDB\", \"value\": \"Blend\"}, \"capitalCity\": \"La Paz\", \"longitude\": \"-66.1936\", \"latitude\": \"-13.9908\"}, {\"id\": \"BTN\", \"iso2Code\": \"BT\", \"name\": \"Bhutan\", \"region\": {\"id\": \"SAS\", \"value\": \"South Asia\"}, \"adminregion\": {\"id\": \"SAS\", \"value\": \"South Asia\"}, \"incomeLevel\": {\"id\": \"LMC\", \"value\": \"Lower middle income\"}, \"lendingType\": {\"id\": \"IDX\", \"value\": \"IDA\"}, \"capitalCity\": \"Thimphu\", \"longitude\": \"89.6177\", \"latitude\": \"27.5768\"}, {\"id\": \"CIV\", \"iso2Code\": \"CI\", \"name\": \"Cote d'Ivoire\", \"region\": {\"id\": \"SSF\", \"value\": \"Sub-Saharan Africa \"}, \"adminregion\": {\"id\": \"SSA\", \"value\": \"Sub-Saharan Africa (excluding high income)\"}, \"incomeLevel\": {\"id\": \"LMC\", \"value\": \"Lower middle income\"}, \"lendingType\": {\"id\": \"IDX\", \"value\": \"IDA\"}, \"capitalCity\": \"Yamoussoukro\", \"longitude\": \"-4.0305\", \"latitude\": \"5.332\"}, {\"id\": \"CMR\", \"iso2Code\": \"CM\", \"name\": \"Cameroon\", \"region\": {\"id\": \"SSF\", \"value\": \"Sub-Saharan Africa \"}, \"adminregion\": {\"id\": \"SSA\", \"value\": \"Sub-Saharan Africa (excluding high income)\"}, \"incomeLevel\": {\"id\": \"LMC\", \"value\": \"Lower middle income\"}, \"lendingType\": {\"id\": \"IDB\", \"value\": \"Blend\"}, \"capitalCity\": \"Yaounde\", \"longitude\": \"11.5174\", \"latitude\": \"3.8721\"}, {\"id\": \"COG\", \"iso2Code\": \"CG\", \"name\": \"Congo, Rep.\", \"region\": {\"id\": \"SSF\", \"value\": \"Sub-Saharan Africa \"}, \"adminregion\": {\"id\": \"SSA\", \"value\": \"Sub-Saharan Africa (excluding high income)\"}, \"incomeLevel\": {\"id\": \"LMC\", \"value\": \"Lower middle income\"}, \"lendingType\": {\"id\": \"IDB\", \"value\": \"Blend\"}, \"capitalCity\": \"Brazzaville\", \"longitude\": \"15.2662\", \"latitude\": \"-4.2767\"}, {\"id\": \"CPV\", \"iso2Code\": \"CV\", \"name\": \"Cabo Verde\", \"region\": {\"id\": \"SSF\", \"value\": \"Sub-Saharan Africa \"}, \"adminregion\": {\"id\": \"SSA\", \"value\": \"Sub-Saharan Africa (excluding high income)\"}, \"incomeLevel\": {\"id\": \"LMC\", \"value\": \"Lower middle income\"}, \"lendingType\": {\"id\": \"IDB\", \"value\": \"Blend\"}, \"capitalCity\": \"Praia\", \"longitude\": \"-23.5087\", \"latitude\": \"14.9218\"}, {\"id\": \"DJI\", \"iso2Code\": \"DJ\", \"name\": \"Djibouti\", \"region\": {\"id\": \"MEA\", \"value\": \"Middle East & North Africa\"}, \"adminregion\": {\"id\": \"MNA\", \"value\": \"Middle East & North Africa (excluding high income)\"}, \"incomeLevel\": {\"id\": \"LMC\", \"value\": \"Lower middle income\"}, \"lendingType\": {\"id\": \"IDX\", \"value\": \"IDA\"}, \"capitalCity\": \"Djibouti\", \"longitude\": \"43.1425\", \"latitude\": \"11.5806\"}, {\"id\": \"EGY\", \"iso2Code\": \"EG\", \"name\": \"Egypt, Arab Rep.\", \"region\": {\"id\": \"MEA\", \"value\": \"Middle East & North Africa\"}, \"adminregion\": {\"id\": \"MNA\", \"value\": \"Middle East & North Africa (excluding high income)\"}, \"incomeLevel\": {\"id\": \"LMC\", \"value\": \"Lower middle income\"}, \"lendingType\": {\"id\": \"IBD\", \"value\": \"IBRD\"}, \"capitalCity\": \"Cairo\", \"longitude\": \"31.2461\", \"latitude\": \"30.0982\"}, {\"id\": \"FSM\", \"iso2Code\": \"FM\", \"name\": \"Micronesia, Fed. Sts.\", \"region\": {\"id\": \"EAS\", \"value\": \"East Asia & Pacific\"}, \"adminregion\": {\"id\": \"EAP\", \"value\": \"East Asia & Pacific (excluding high income)\"}, \"incomeLevel\": {\"id\": \"LMC\", \"value\": \"Lower middle income\"}, \"lendingType\": {\"id\": \"IDX\", \"value\": \"IDA\"}, \"capitalCity\": \"Palikir\", \"longitude\": \"158.185\", \"latitude\": \"6.91771\"}, {\"id\": \"GHA\", \"iso2Code\": \"GH\", \"name\": \"Ghana\", \"region\": {\"id\": \"SSF\", \"value\": \"Sub-Saharan Africa \"}, \"adminregion\": {\"id\": \"SSA\", \"value\": \"Sub-Saharan Africa (excluding high income)\"}, \"incomeLevel\": {\"id\": \"LMC\", \"value\": \"Lower middle income\"}, \"lendingType\": {\"id\": \"IDX\", \"value\": \"IDA\"}, \"capitalCity\": \"Accra\", \"longitude\": \"-0.20795\", \"latitude\": \"5.57045\"}, {\"id\": \"GTM\", \"iso2Code\": \"GT\", \"name\": \"Guatemala\", \"region\": {\"id\": \"LCN\", \"value\": \"Latin America & Caribbean \"}, \"adminregion\": {\"id\": \"LAC\", \"value\": \"Latin America & Caribbean (excluding high income)\"}, \"incomeLevel\": {\"id\": \"LMC\", \"value\": \"Lower middle income\"}, \"lendingType\": {\"id\": \"IBD\", \"value\": \"IBRD\"}, \"capitalCity\": \"Guatemala City\", \"longitude\": \"-90.5328\", \"latitude\": \"14.6248\"}, {\"id\": \"HND\", \"iso2Code\": \"HN\", \"name\": \"Honduras\", \"region\": {\"id\": \"LCN\", \"value\": \"Latin America & Caribbean \"}, \"adminregion\": {\"id\": \"LAC\", \"value\": \"Latin America & Caribbean (excluding high income)\"}, \"incomeLevel\": {\"id\": \"LMC\", \"value\": \"Lower middle income\"}, \"lendingType\": {\"id\": \"IDX\", \"value\": \"IDA\"}, \"capitalCity\": \"Tegucigalpa\", \"longitude\": \"-87.4667\", \"latitude\": \"15.1333\"}, {\"id\": \"IDN\", \"iso2Code\": \"ID\", \"name\": \"Indonesia\", \"region\": {\"id\": \"EAS\", \"value\": \"East Asia & Pacific\"}, \"adminregion\": {\"id\": \"EAP\", \"value\": \"East Asia & Pacific (excluding high income)\"}, \"incomeLevel\": {\"id\": \"LMC\", \"value\": \"Lower middle income\"}, \"lendingType\": {\"id\": \"IBD\", \"value\": \"IBRD\"}, \"capitalCity\": \"Jakarta\", \"longitude\": \"106.83\", \"latitude\": \"-6.19752\"}, {\"id\": \"IND\", \"iso2Code\": \"IN\", \"name\": \"India\", \"region\": {\"id\": \"SAS\", \"value\": \"South Asia\"}, \"adminregion\": {\"id\": \"SAS\", \"value\": \"South Asia\"}, \"incomeLevel\": {\"id\": \"LMC\", \"value\": \"Lower middle income\"}, \"lendingType\": {\"id\": \"IBD\", \"value\": \"IBRD\"}, \"capitalCity\": \"New Delhi\", \"longitude\": \"77.225\", \"latitude\": \"28.6353\"}, {\"id\": \"KEN\", \"iso2Code\": \"KE\", \"name\": \"Kenya\", \"region\": {\"id\": \"SSF\", \"value\": \"Sub-Saharan Africa \"}, \"adminregion\": {\"id\": \"SSA\", \"value\": \"Sub-Saharan Africa (excluding high income)\"}, \"incomeLevel\": {\"id\": \"LMC\", \"value\": \"Lower middle income\"}, \"lendingType\": {\"id\": \"IDX\", \"value\": \"IDA\"}, \"capitalCity\": \"Nairobi\", \"longitude\": \"36.8126\", \"latitude\": \"-1.27975\"}, {\"id\": \"KGZ\", \"iso2Code\": \"KG\", \"name\": \"Kyrgyz Republic\", \"region\": {\"id\": \"ECS\", \"value\": \"Europe & Central Asia\"}, \"adminregion\": {\"id\": \"ECA\", \"value\": \"Europe & Central Asia (excluding high income)\"}, \"incomeLevel\": {\"id\": \"LMC\", \"value\": \"Lower middle income\"}, \"lendingType\": {\"id\": \"IDX\", \"value\": \"IDA\"}, \"capitalCity\": \"Bishkek\", \"longitude\": \"74.6057\", \"latitude\": \"42.8851\"}, {\"id\": \"KHM\", \"iso2Code\": \"KH\", \"name\": \"Cambodia\", \"region\": {\"id\": \"EAS\", \"value\": \"East Asia & Pacific\"}, \"adminregion\": {\"id\": \"EAP\", \"value\": \"East Asia & Pacific (excluding high income)\"}, \"incomeLevel\": {\"id\": \"LMC\", \"value\": \"Lower middle income\"}, \"lendingType\": {\"id\": \"IDX\", \"value\": \"IDA\"}, \"capitalCity\": \"Phnom Penh\", \"longitude\": \"104.874\", \"latitude\": \"11.5556\"}, {\"id\": \"KIR\", \"iso2Code\": \"KI\", \"name\": \"Kiribati\", \"region\": {\"id\": \"EAS\", \"value\": \"East Asia & Pacific\"}, \"adminregion\": {\"id\": \"EAP\", \"value\": \"East Asia & Pacific (excluding high income)\"}, \"incomeLevel\": {\"id\": \"LMC\", \"value\": \"Lower middle income\"}, \"lendingType\": {\"id\": \"IDX\", \"value\": \"IDA\"}, \"capitalCity\": \"Tarawa\", \"longitude\": \"172.979\", \"latitude\": \"1.32905\"}, {\"id\": \"LAO\", \"iso2Code\": \"LA\", \"name\": \"Lao PDR\", \"region\": {\"id\": \"EAS\", \"value\": \"East Asia & Pacific\"}, \"adminregion\": {\"id\": \"EAP\", \"value\": \"East Asia & Pacific (excluding high income)\"}, \"incomeLevel\": {\"id\": \"LMC\", \"value\": \"Lower middle income\"}, \"lendingType\": {\"id\": \"IDX\", \"value\": \"IDA\"}, \"capitalCity\": \"Vientiane\", \"longitude\": \"102.177\", \"latitude\": \"18.5826\"}, {\"id\": \"LKA\", \"iso2Code\": \"LK\", \"name\": \"Sri Lanka\", \"region\": {\"id\": \"SAS\", \"value\": \"South Asia\"}, \"adminregion\": {\"id\": \"SAS\", \"value\": \"South Asia\"}, \"incomeLevel\": {\"id\": \"LMC\", \"value\": \"Lower middle income\"}, \"lendingType\": {\"id\": \"IDB\", \"value\": \"Blend\"}, \"capitalCity\": \"Colombo\", \"longitude\": \"79.8528\", \"latitude\": \"6.92148\"}, {\"id\": \"LSO\", \"iso2Code\": \"LS\", \"name\": \"Lesotho\", \"region\": {\"id\": \"SSF\", \"value\": \"Sub-Saharan Africa \"}, \"adminregion\": {\"id\": \"SSA\", \"value\": \"Sub-Saharan Africa (excluding high income)\"}, \"incomeLevel\": {\"id\": \"LMC\", \"value\": \"Lower middle income\"}, \"lendingType\": {\"id\": \"IDX\", \"value\": \"IDA\"}, \"capitalCity\": \"Maseru\", \"longitude\": \"27.7167\", \"latitude\": \"-29.5208\"}, {\"id\": \"MAR\", \"iso2Code\": \"MA\", \"name\": \"Morocco\", \"region\": {\"id\": \"MEA\", \"value\": \"Middle East & North Africa\"}, \"adminregion\": {\"id\": \"MNA\", \"value\": \"Middle East & North Africa (excluding high income)\"}, \"incomeLevel\": {\"id\": \"LMC\", \"value\": \"Lower middle income\"}, \"lendingType\": {\"id\": \"IBD\", \"value\": \"IBRD\"}, \"capitalCity\": \"Rabat\", \"longitude\": \"-6.8704\", \"latitude\": \"33.9905\"}, {\"id\": \"MDA\", \"iso2Code\": \"MD\", \"name\": \"Moldova\", \"region\": {\"id\": \"ECS\", \"value\": \"Europe & Central Asia\"}, \"adminregion\": {\"id\": \"ECA\", \"value\": \"Europe & Central Asia (excluding high income)\"}, \"incomeLevel\": {\"id\": \"LMC\", \"value\": \"Lower middle income\"}, \"lendingType\": {\"id\": \"IDB\", \"value\": \"Blend\"}, \"capitalCity\": \"Chisinau\", \"longitude\": \"28.8497\", \"latitude\": \"47.0167\"}, {\"id\": \"MMR\", \"iso2Code\": \"MM\", \"name\": \"Myanmar\", \"region\": {\"id\": \"EAS\", \"value\": \"East Asia & Pacific\"}, \"adminregion\": {\"id\": \"EAP\", \"value\": \"East Asia & Pacific (excluding high income)\"}, \"incomeLevel\": {\"id\": \"LMC\", \"value\": \"Lower middle income\"}, \"lendingType\": {\"id\": \"IDX\", \"value\": \"IDA\"}, \"capitalCity\": \"Naypyidaw\", \"longitude\": \"95.9562\", \"latitude\": \"21.914\"}, {\"id\": \"MNG\", \"iso2Code\": \"MN\", \"name\": \"Mongolia\", \"region\": {\"id\": \"EAS\", \"value\": \"East Asia & Pacific\"}, \"adminregion\": {\"id\": \"EAP\", \"value\": \"East Asia & Pacific (excluding high income)\"}, \"incomeLevel\": {\"id\": \"LMC\", \"value\": \"Lower middle income\"}, \"lendingType\": {\"id\": \"IDB\", \"value\": \"Blend\"}, \"capitalCity\": \"Ulaanbaatar\", \"longitude\": \"106.937\", \"latitude\": \"47.9129\"}, {\"id\": \"MRT\", \"iso2Code\": \"MR\", \"name\": \"Mauritania\", \"region\": {\"id\": \"SSF\", \"value\": \"Sub-Saharan Africa \"}, \"adminregion\": {\"id\": \"SSA\", \"value\": \"Sub-Saharan Africa (excluding high income)\"}, \"incomeLevel\": {\"id\": \"LMC\", \"value\": \"Lower middle income\"}, \"lendingType\": {\"id\": \"IDX\", \"value\": \"IDA\"}, \"capitalCity\": \"Nouakchott\", \"longitude\": \"-15.9824\", \"latitude\": \"18.2367\"}, {\"id\": \"NGA\", \"iso2Code\": \"NG\", \"name\": \"Nigeria\", \"region\": {\"id\": \"SSF\", \"value\": \"Sub-Saharan Africa \"}, \"adminregion\": {\"id\": \"SSA\", \"value\": \"Sub-Saharan Africa (excluding high income)\"}, \"incomeLevel\": {\"id\": \"LMC\", \"value\": \"Lower middle income\"}, \"lendingType\": {\"id\": \"IDB\", \"value\": \"Blend\"}, \"capitalCity\": \"Abuja\", \"longitude\": \"7.48906\", \"latitude\": \"9.05804\"}, {\"id\": \"NIC\", \"iso2Code\": \"NI\", \"name\": \"Nicaragua\", \"region\": {\"id\": \"LCN\", \"value\": \"Latin America & Caribbean \"}, \"adminregion\": {\"id\": \"LAC\", \"value\": \"Latin America & Caribbean (excluding high income)\"}, \"incomeLevel\": {\"id\": \"LMC\", \"value\": \"Lower middle income\"}, \"lendingType\": {\"id\": \"IDX\", \"value\": \"IDA\"}, \"capitalCity\": \"Managua\", \"longitude\": \"-86.2734\", \"latitude\": \"12.1475\"}, {\"id\": \"PAK\", \"iso2Code\": \"PK\", \"name\": \"Pakistan\", \"region\": {\"id\": \"SAS\", \"value\": \"South Asia\"}, \"adminregion\": {\"id\": \"SAS\", \"value\": \"South Asia\"}, \"incomeLevel\": {\"id\": \"LMC\", \"value\": \"Lower middle income\"}, \"lendingType\": {\"id\": \"IDB\", \"value\": \"Blend\"}, \"capitalCity\": \"Islamabad\", \"longitude\": \"72.8\", \"latitude\": \"30.5167\"}, {\"id\": \"PHL\", \"iso2Code\": \"PH\", \"name\": \"Philippines\", \"region\": {\"id\": \"EAS\", \"value\": \"East Asia & Pacific\"}, \"adminregion\": {\"id\": \"EAP\", \"value\": \"East Asia & Pacific (excluding high income)\"}, \"incomeLevel\": {\"id\": \"LMC\", \"value\": \"Lower middle income\"}, \"lendingType\": {\"id\": \"IBD\", \"value\": \"IBRD\"}, \"capitalCity\": \"Manila\", \"longitude\": \"121.035\", \"latitude\": \"14.5515\"}, {\"id\": \"PNG\", \"iso2Code\": \"PG\", \"name\": \"Papua New Guinea\", \"region\": {\"id\": \"EAS\", \"value\": \"East Asia & Pacific\"}, \"adminregion\": {\"id\": \"EAP\", \"value\": \"East Asia & Pacific (excluding high income)\"}, \"incomeLevel\": {\"id\": \"LMC\", \"value\": \"Lower middle income\"}, \"lendingType\": {\"id\": \"IDB\", \"value\": \"Blend\"}, \"capitalCity\": \"Port Moresby\", \"longitude\": \"147.194\", \"latitude\": \"-9.47357\"}, {\"id\": \"PSE\", \"iso2Code\": \"PS\", \"name\": \"West Bank and Gaza\", \"region\": {\"id\": \"MEA\", \"value\": \"Middle East & North Africa\"}, \"adminregion\": {\"id\": \"MNA\", \"value\": \"Middle East & North Africa (excluding high income)\"}, \"incomeLevel\": {\"id\": \"LMC\", \"value\": \"Lower middle income\"}, \"lendingType\": {\"id\": \"LNX\", \"value\": \"Not classified\"}, \"capitalCity\": \"\", \"longitude\": \"\", \"latitude\": \"\"}, {\"id\": \"SDN\", \"iso2Code\": \"SD\", \"name\": \"Sudan\", \"region\": {\"id\": \"SSF\", \"value\": \"Sub-Saharan Africa \"}, \"adminregion\": {\"id\": \"SSA\", \"value\": \"Sub-Saharan Africa (excluding high income)\"}, \"incomeLevel\": {\"id\": \"LMC\", \"value\": \"Lower middle income\"}, \"lendingType\": {\"id\": \"IDX\", \"value\": \"IDA\"}, \"capitalCity\": \"Khartoum\", \"longitude\": \"32.5363\", \"latitude\": \"15.5932\"}, {\"id\": \"SLB\", \"iso2Code\": \"SB\", \"name\": \"Solomon Islands\", \"region\": {\"id\": \"EAS\", \"value\": \"East Asia & Pacific\"}, \"adminregion\": {\"id\": \"EAP\", \"value\": \"East Asia & Pacific (excluding high income)\"}, \"incomeLevel\": {\"id\": \"LMC\", \"value\": \"Lower middle income\"}, \"lendingType\": {\"id\": \"IDX\", \"value\": \"IDA\"}, \"capitalCity\": \"Honiara\", \"longitude\": \"159.949\", \"latitude\": \"-9.42676\"}, {\"id\": \"SLV\", \"iso2Code\": \"SV\", \"name\": \"El Salvador\", \"region\": {\"id\": \"LCN\", \"value\": \"Latin America & Caribbean \"}, \"adminregion\": {\"id\": \"LAC\", \"value\": \"Latin America & Caribbean (excluding high income)\"}, \"incomeLevel\": {\"id\": \"LMC\", \"value\": \"Lower middle income\"}, \"lendingType\": {\"id\": \"IBD\", \"value\": \"IBRD\"}, \"capitalCity\": \"San Salvador\", \"longitude\": \"-89.2073\", \"latitude\": \"13.7034\"}, {\"id\": \"STP\", \"iso2Code\": \"ST\", \"name\": \"Sao Tome and Principe\", \"region\": {\"id\": \"SSF\", \"value\": \"Sub-Saharan Africa \"}, \"adminregion\": {\"id\": \"SSA\", \"value\": \"Sub-Saharan Africa (excluding high income)\"}, \"incomeLevel\": {\"id\": \"LMC\", \"value\": \"Lower middle income\"}, \"lendingType\": {\"id\": \"IDX\", \"value\": \"IDA\"}, \"capitalCity\": \"Sao Tome\", \"longitude\": \"6.6071\", \"latitude\": \"0.20618\"}, {\"id\": \"SWZ\", \"iso2Code\": \"SZ\", \"name\": \"Swaziland\", \"region\": {\"id\": \"SSF\", \"value\": \"Sub-Saharan Africa \"}, \"adminregion\": {\"id\": \"SSA\", \"value\": \"Sub-Saharan Africa (excluding high income)\"}, \"incomeLevel\": {\"id\": \"LMC\", \"value\": \"Lower middle income\"}, \"lendingType\": {\"id\": \"IBD\", \"value\": \"IBRD\"}, \"capitalCity\": \"Mbabane\", \"longitude\": \"31.4659\", \"latitude\": \"-26.5225\"}, {\"id\": \"SYR\", \"iso2Code\": \"SY\", \"name\": \"Syrian Arab Republic\", \"region\": {\"id\": \"MEA\", \"value\": \"Middle East & North Africa\"}, \"adminregion\": {\"id\": \"MNA\", \"value\": \"Middle East & North Africa (excluding high income)\"}, \"incomeLevel\": {\"id\": \"LMC\", \"value\": \"Lower middle income\"}, \"lendingType\": {\"id\": \"IDX\", \"value\": \"IDA\"}, \"capitalCity\": \"Damascus\", \"longitude\": \"36.3119\", \"latitude\": \"33.5146\"}, {\"id\": \"TJK\", \"iso2Code\": \"TJ\", \"name\": \"Tajikistan\", \"region\": {\"id\": \"ECS\", \"value\": \"Europe & Central Asia\"}, \"adminregion\": {\"id\": \"ECA\", \"value\": \"Europe & Central Asia (excluding high income)\"}, \"incomeLevel\": {\"id\": \"LMC\", \"value\": \"Lower middle income\"}, \"lendingType\": {\"id\": \"IDX\", \"value\": \"IDA\"}, \"capitalCity\": \"Dushanbe\", \"longitude\": \"68.7864\", \"latitude\": \"38.5878\"}, {\"id\": \"TLS\", \"iso2Code\": \"TL\", \"name\": \"Timor-Leste\", \"region\": {\"id\": \"EAS\", \"value\": \"East Asia & Pacific\"}, \"adminregion\": {\"id\": \"EAP\", \"value\": \"East Asia & Pacific (excluding high income)\"}, \"incomeLevel\": {\"id\": \"LMC\", \"value\": \"Lower middle income\"}, \"lendingType\": {\"id\": \"IDB\", \"value\": \"Blend\"}, \"capitalCity\": \"Dili\", \"longitude\": \"125.567\", \"latitude\": \"-8.56667\"}, {\"id\": \"TON\", \"iso2Code\": \"TO\", \"name\": \"Tonga\", \"region\": {\"id\": \"EAS\", \"value\": \"East Asia & Pacific\"}, \"adminregion\": {\"id\": \"EAP\", \"value\": \"East Asia & Pacific (excluding high income)\"}, \"incomeLevel\": {\"id\": \"LMC\", \"value\": \"Lower middle income\"}, \"lendingType\": {\"id\": \"IDX\", \"value\": \"IDA\"}, \"capitalCity\": \"Nuku'alofa\", \"longitude\": \"-175.216\", \"latitude\": \"-21.136\"}, {\"id\": \"TUN\", \"iso2Code\": \"TN\", \"name\": \"Tunisia\", \"region\": {\"id\": \"MEA\", \"value\": \"Middle East & North Africa\"}, \"adminregion\": {\"id\": \"MNA\", \"value\": \"Middle East & North Africa (excluding high income)\"}, \"incomeLevel\": {\"id\": \"LMC\", \"value\": \"Lower middle income\"}, \"lendingType\": {\"id\": \"IBD\", \"value\": \"IBRD\"}, \"capitalCity\": \"Tunis\", \"longitude\": \"10.21\", \"latitude\": \"36.7899\"}, {\"id\": \"UKR\", \"iso2Code\": \"UA\", \"name\": \"Ukraine\", \"region\": {\"id\": \"ECS\", \"value\": \"Europe & Central Asia\"}, \"adminregion\": {\"id\": \"ECA\", \"value\": \"Europe & Central Asia (excluding high income)\"}, \"incomeLevel\": {\"id\": \"LMC\", \"value\": \"Lower middle income\"}, \"lendingType\": {\"id\": \"IBD\", \"value\": \"IBRD\"}, \"capitalCity\": \"Kiev\", \"longitude\": \"30.5038\", \"latitude\": \"50.4536\"}, {\"id\": \"UZB\", \"iso2Code\": \"UZ\", \"name\": \"Uzbekistan\", \"region\": {\"id\": \"ECS\", \"value\": \"Europe & Central Asia\"}, \"adminregion\": {\"id\": \"ECA\", \"value\": \"Europe & Central Asia (excluding high income)\"}, \"incomeLevel\": {\"id\": \"LMC\", \"value\": \"Lower middle income\"}, \"lendingType\": {\"id\": \"IDB\", \"value\": \"Blend\"}, \"capitalCity\": \"Tashkent\", \"longitude\": \"69.269\", \"latitude\": \"41.3052\"}, {\"id\": \"VNM\", \"iso2Code\": \"VN\", \"name\": \"Vietnam\", \"region\": {\"id\": \"EAS\", \"value\": \"East Asia & Pacific\"}, \"adminregion\": {\"id\": \"EAP\", \"value\": \"East Asia & Pacific (excluding high income)\"}, \"incomeLevel\": {\"id\": \"LMC\", \"value\": \"Lower middle income\"}, \"lendingType\": {\"id\": \"IDB\", \"value\": \"Blend\"}, \"capitalCity\": \"Hanoi\", \"longitude\": \"105.825\", \"latitude\": \"21.0069\"}, {\"id\": \"VUT\", \"iso2Code\": \"VU\", \"name\": \"Vanuatu\", \"region\": {\"id\": \"EAS\", \"value\": \"East Asia & Pacific\"}, \"adminregion\": {\"id\": \"EAP\", \"value\": \"East Asia & Pacific (excluding high income)\"}, \"incomeLevel\": {\"id\": \"LMC\", \"value\": \"Lower middle income\"}, \"lendingType\": {\"id\": \"IDX\", \"value\": \"IDA\"}, \"capitalCity\": \"Port-Vila\", \"longitude\": \"168.321\", \"latitude\": \"-17.7404\"}, {\"id\": \"WSM\", \"iso2Code\": \"WS\", \"name\": \"Samoa\", \"region\": {\"id\": \"EAS\", \"value\": \"East Asia & Pacific\"}, \"adminregion\": {\"id\": \"EAP\", \"value\": \"East Asia & Pacific (excluding high income)\"}, \"incomeLevel\": {\"id\": \"LMC\", \"value\": \"Lower middle income\"}, \"lendingType\": {\"id\": \"IDX\", \"value\": \"IDA\"}, \"capitalCity\": \"Apia\", \"longitude\": \"-171.752\", \"latitude\": \"-13.8314\"}, {\"id\": \"XKX\", \"iso2Code\": \"XK\", \"name\": \"Kosovo\", \"region\": {\"id\": \"ECS\", \"value\": \"Europe & Central Asia\"}, \"adminregion\": {\"id\": \"ECA\", \"value\": \"Europe & Central Asia (excluding high income)\"}, \"incomeLevel\": {\"id\": \"LMC\", \"value\": \"Lower middle income\"}, \"lendingType\": {\"id\": \"IDX\", \"value\": \"IDA\"}, \"capitalCity\": \"Pristina\", \"longitude\": \"20.926\", \"latitude\": \"42.565\"}]]))\n",
              "        }); \n",
              "</script>\n"
            ],
            "text/plain": [
              "<jyquickhelper.json_helper.RenderJSON at 0x229ac7bd630>"
            ]
          },
          "execution_count": null,
          "metadata": {},
          "output_type": "execute_result"
        }
      ],
      "source": [
        "import requests\n",
        "data_json = requests.get(\"http://api.worldbank.org/countries?incomeLevel=LMC&format=json\").json()\n",
        "JSONJS(data_json)"
      ]
    },
    {
      "cell_type": "code",
      "execution_count": null,
      "metadata": {
        "collapsed": true
      },
      "outputs": [],
      "source": []
    }
  ],
  "metadata": {
    "kernelspec": {
      "display_name": "Python 3",
      "language": "python",
      "name": "python3"
    },
    "language_info": {
      "codemirror_mode": {
        "name": "ipython",
        "version": 3
      },
      "file_extension": ".py",
      "mimetype": "text/x-python",
      "name": "python",
      "nbconvert_exporter": "python",
      "pygments_lexer": "ipython3",
      "version": "3.6.1"
    }
  },
  "nbformat": 4,
  "nbformat_minor": 1
}