{
  "cells": [
    {
      "cell_type": "markdown",
      "metadata": {},
      "source": [
        "# Notebook, HTML, SVG, Javascript"
      ]
    },
    {
      "cell_type": "code",
      "execution_count": null,
      "metadata": {
        "collapsed": false
      },
      "outputs": [
        {
          "data": {
            "text/html": [
              "<div id=\"my_id_menu_nb\">run previous cell, wait for 2 seconds</div>\n",
              "<script>\n",
              "function repeat_indent_string(n){\n",
              "    var a = \"\" ;\n",
              "    for ( ; n > 0 ; --n) {\n",
              "        a += \"    \";\n",
              "    }\n",
              "    return a;\n",
              "}\n",
              "var update_menu_string = function(begin, lfirst, llast, sformat, send, keep_item) {\n",
              "    var anchors = document.getElementsByClassName(\"section\");\n",
              "    if (anchors.length == 0) {\n",
              "        anchors = document.getElementsByClassName(\"text_cell_render rendered_html\");\n",
              "    }\n",
              "    var i,t;\n",
              "    var text_menu = begin;\n",
              "    var text_memo = \"<pre>\\nlength:\" + anchors.length + \"\\n\";\n",
              "    var ind = \"\";\n",
              "    var memo_level = 1;\n",
              "    var href;\n",
              "    var tags = [];\n",
              "    var main_item = 0;\n",
              "    for (i = 0; i <= llast; i++) {\n",
              "        tags.push(\"h\" + i);\n",
              "    }\n",
              "\n",
              "    for (i = 0; i < anchors.length; i++) {\n",
              "        text_memo += \"**\" + anchors[i].id + \"--\\n\";\n",
              "\n",
              "        var child = null;\n",
              "        for(t = 0; t < tags.length; t++) {\n",
              "            var r = anchors[i].getElementsByTagName(tags[t]);\n",
              "            if (r.length > 0) {\n",
              "child = r[0];\n",
              "break;\n",
              "            }\n",
              "        }\n",
              "        if (child == null){\n",
              "            text_memo += \"null\\n\";\n",
              "            continue;\n",
              "        }\n",
              "        if (anchors[i].hasAttribute(\"id\")) {\n",
              "            // when converted in RST\n",
              "            href = anchors[i].id;\n",
              "            text_memo += \"#1-\" + href;\n",
              "            // passer \u00e0 child suivant (le chercher)\n",
              "        }\n",
              "        else if (child.hasAttribute(\"id\")) {\n",
              "            // in a notebook\n",
              "            href = child.id;\n",
              "            text_memo += \"#2-\" + href;\n",
              "        }\n",
              "        else {\n",
              "            text_memo += \"#3-\" + \"*\" + \"\\n\";\n",
              "            continue;\n",
              "        }\n",
              "        var title = child.textContent;\n",
              "        var level = parseInt(child.tagName.substring(1,2));\n",
              "\n",
              "        text_memo += \"--\" + level + \"?\" + lfirst + \"--\" + title + \"\\n\";\n",
              "\n",
              "        if ((level < lfirst) || (level > llast)) {\n",
              "            continue ;\n",
              "        }\n",
              "        if (title.endsWith('\u00b6')) {\n",
              "            title = title.substring(0,title.length-1).replace(\"<\", \"&lt;\").replace(\">\", \"&gt;\").replace(\"&\", \"&amp;\")\n",
              "        }\n",
              "\n",
              "        if (title.length == 0) {\n",
              "            continue;\n",
              "        }\n",
              "\n",
              "        while (level < memo_level) {\n",
              "            text_menu += \"</ul>\\n\";\n",
              "            memo_level -= 1;\n",
              "        }\n",
              "        if (level == lfirst) {\n",
              "            main_item += 1;\n",
              "        }\n",
              "        if (keep_item != -1 && main_item != keep_item + 1) {\n",
              "            // alert(main_item + \" - \" + level + \" - \" + keep_item);\n",
              "            continue;\n",
              "        }\n",
              "        while (level > memo_level) {\n",
              "            text_menu += \"<ul>\\n\";\n",
              "            memo_level += 1;\n",
              "        }\n",
              "        text_menu += repeat_indent_string(level-2) + sformat.replace(\"__HREF__\", href).replace(\"__TITLE__\", title);\n",
              "    }\n",
              "    while (1 < memo_level) {\n",
              "        text_menu += \"</ul>\\n\";\n",
              "        memo_level -= 1;\n",
              "    }\n",
              "    text_menu += send;\n",
              "    //text_menu += \"\\n\" + text_memo;\n",
              "    return text_menu;\n",
              "};\n",
              "var update_menu = function() {\n",
              "    var sbegin = \"\";\n",
              "    var sformat = '<li><a href=\"#__HREF__\">__TITLE__</a></li>';\n",
              "    var send = \"\";\n",
              "    var keep_item = -1;\n",
              "    var text_menu = update_menu_string(sbegin, 2, 4, sformat, send, keep_item);\n",
              "    var menu = document.getElementById(\"my_id_menu_nb\");\n",
              "    menu.innerHTML=text_menu;\n",
              "};\n",
              "window.setTimeout(update_menu,2000);\n",
              "            </script>"
            ],
            "text/plain": [
              "<IPython.core.display.HTML object>"
            ]
          },
          "execution_count": null,
          "metadata": {},
          "output_type": "execute_result"
        }
      ],
      "source": [
        "from jyquickhelper import add_notebook_menu\n",
        "add_notebook_menu()"
      ]
    },
    {
      "cell_type": "markdown",
      "metadata": {},
      "source": [
        "## HTML"
      ]
    },
    {
      "cell_type": "code",
      "execution_count": null,
      "metadata": {
        "collapsed": false
      },
      "outputs": [
        {
          "data": {
            "text/html": [
              "\n",
              "<i>italic</i>"
            ],
            "text/plain": [
              "<IPython.core.display.HTML object>"
            ]
          },
          "metadata": {},
          "output_type": "display_data"
        }
      ],
      "source": [
        "%%html\n",
        "\n",
        "<i>italic</i>"
      ]
    },
    {
      "cell_type": "code",
      "execution_count": null,
      "metadata": {
        "collapsed": false
      },
      "outputs": [
        {
          "data": {
            "text/html": [
              "<b>some bold text</b>"
            ],
            "text/plain": [
              "<IPython.core.display.HTML object>"
            ]
          },
          "execution_count": null,
          "metadata": {},
          "output_type": "execute_result"
        }
      ],
      "source": [
        "from IPython.display import HTML\n",
        "HTML(\"<b>some bold text</b>\")"
      ]
    },
    {
      "cell_type": "code",
      "execution_count": null,
      "metadata": {
        "collapsed": false
      },
      "outputs": [
        {
          "data": {
            "text/html": [
              "<b>some bold text</b>"
            ],
            "text/plain": [
              "<IPython.core.display.HTML object>"
            ]
          },
          "metadata": {},
          "output_type": "display_data"
        }
      ],
      "source": [
        "from IPython.display import HTML, display\n",
        "display(HTML(\"<b>some bold text</b>\"))"
      ]
    },
    {
      "cell_type": "markdown",
      "metadata": {},
      "source": [
        "## SVG\n",
        "\n",
        "* [SVG language](http://tutorials.jenkov.com/svg/simple-svg-example.html)"
      ]
    },
    {
      "cell_type": "code",
      "execution_count": null,
      "metadata": {
        "collapsed": false
      },
      "outputs": [
        {
          "data": {
            "image/svg+xml": [
              "<svg>\n",
              "    <rect height=\"100\" style=\"stroke:#ff0000; fill: #00ffff\" width=\"100\" x=\"10\" y=\"10\"/>\n",
              "</svg>"
            ],
            "text/plain": [
              "<IPython.core.display.SVG object>"
            ]
          },
          "metadata": {},
          "output_type": "display_data"
        }
      ],
      "source": [
        "%%svg\n",
        "\n",
        "<svg>\n",
        "    <rect x=\"10\" y=\"10\" height=\"100\" width=\"100\"\n",
        "          style=\"stroke:#ff0000; fill: #00ffff\"/>\n",
        "</svg>"
      ]
    },
    {
      "cell_type": "code",
      "execution_count": null,
      "metadata": {
        "collapsed": false
      },
      "outputs": [
        {
          "data": {
            "image/svg+xml": [
              "<svg>\n",
              "    <rect height=\"100\" style=\"stroke:#ff0000; fill: #0000ff\" width=\"100\" x=\"10\" y=\"10\"/>\n",
              "</svg>"
            ],
            "text/plain": [
              "<IPython.core.display.SVG object>"
            ]
          },
          "execution_count": null,
          "metadata": {},
          "output_type": "execute_result"
        }
      ],
      "source": [
        "from IPython.display import SVG\n",
        "SVG(\"\"\"<svg>\n",
        "    <rect x=\"10\" y=\"10\" height=\"100\" width=\"100\"\n",
        "          style=\"stroke:#ff0000; fill: #0000ff\"/>\n",
        "</svg>\"\"\")"
      ]
    },
    {
      "cell_type": "markdown",
      "metadata": {},
      "source": [
        "## Javascript"
      ]
    },
    {
      "cell_type": "markdown",
      "metadata": {},
      "source": [
        "### with magic commands\n",
        "\n",
        "Usually, the javascript needs a zone in the page where the output will be inserted. That's what the next cell does."
      ]
    },
    {
      "cell_type": "code",
      "execution_count": null,
      "metadata": {
        "collapsed": false
      },
      "outputs": [
        {
          "data": {
            "text/html": [
              "\n",
              "<div id=\"myfirstid\"></div>"
            ],
            "text/plain": [
              "<IPython.core.display.HTML object>"
            ]
          },
          "metadata": {},
          "output_type": "display_data"
        }
      ],
      "source": [
        "%%html\n",
        "\n",
        "<div id=\"myfirstid\"></div>"
      ]
    },
    {
      "cell_type": "markdown",
      "metadata": {},
      "source": [
        "This cell will populate the zone just above. The rendering is not great when the notebook is converted into RST. Look into the HTML conversion."
      ]
    },
    {
      "cell_type": "code",
      "execution_count": null,
      "metadata": {
        "collapsed": false
      },
      "outputs": [
        {
          "data": {
            "application/javascript": [
              "\n",
              "var zone = document.getElementById(\"myfirstid\");\n",
              "var student = new Array();\n",
              "student[1]=23;\n",
              "student[2]=34;\n",
              "student[3]=67;\n",
              "student[4]=76;\n",
              "student[5]=51;\n",
              "student[6]=72;\n",
              "zone.innerHTML = \"<b>Student results</b>\";\n",
              "zone.innerHTML += \"<ul>\";\n",
              "var numStudents=0;\n",
              "var sum=0;\n",
              "var ans=0;\n",
              "for(var i in student){\n",
              "    zone.innerHTML += \"<li>Student \"+i+\": \"+student[i]+\"%\";\n",
              "    numStudents++;\n",
              "    sum=sum+student[i];\n",
              "}\n",
              "zone.innerHTML += \"</ul>\";\n",
              "ans=Math.round(sum/numStudents);\n",
              "zone.innerHTML += \"student average is \"+ans+\"%\";"
            ],
            "text/plain": [
              "<IPython.core.display.Javascript object>"
            ]
          },
          "metadata": {},
          "output_type": "display_data"
        }
      ],
      "source": [
        "%%javascript\n",
        "\n",
        "var zone = document.getElementById(\"myfirstid\");\n",
        "var student = new Array();\n",
        "student[1]=23;\n",
        "student[2]=34;\n",
        "student[3]=67;\n",
        "student[4]=76;\n",
        "student[5]=51;\n",
        "student[6]=72;\n",
        "zone.innerHTML = \"<b>Student results</b>\";\n",
        "zone.innerHTML += \"<ul>\";\n",
        "var numStudents=0;\n",
        "var sum=0;\n",
        "var ans=0;\n",
        "for(var i in student){\n",
        "    zone.innerHTML += \"<li>Student \"+i+\": \"+student[i]+\"%\";\n",
        "    numStudents++;\n",
        "    sum=sum+student[i];\n",
        "}\n",
        "zone.innerHTML += \"</ul>\";\n",
        "ans=Math.round(sum/numStudents);\n",
        "zone.innerHTML += \"student average is \"+ans+\"%\";"
      ]
    },
    {
      "cell_type": "markdown",
      "metadata": {},
      "source": [
        "### with customized objects"
      ]
    },
    {
      "cell_type": "code",
      "execution_count": null,
      "metadata": {
        "collapsed": true
      },
      "outputs": [],
      "source": [
        "from IPython.display import display_html, display_javascript\n",
        "import uuid\n",
        "\n",
        "class MyCustomObject(object):\n",
        "    def __init__(self, width=\"100%\", height=\"100%\", divid=None):\n",
        "        self.uuid = divid if divid else str(uuid.uuid4())\n",
        "        self.width = width\n",
        "        self.height = height\n",
        "\n",
        "    def _ipython_display_(self):\n",
        "        display_html('<div id=\"{}\" style=\"height: {}; width:{};\"></div>'.format(self.uuid, self.width, self.height),\n",
        "                     raw=True)\n",
        "        js = \"\"\"\n",
        "            var zone = document.getElementById(\"myfirstid\");\n",
        "            var student = new Array();\n",
        "            student[1]=23;\n",
        "            student[2]=34;\n",
        "            student[3]=67;\n",
        "            student[4]=76;\n",
        "            student[5]=51;\n",
        "            student[6]=72;\n",
        "            zone.innerHTML = \"<b>Student results</b>\";\n",
        "            zone.innerHTML += \"<ul>\";\n",
        "            var numStudents=0;\n",
        "            var sum=0;\n",
        "            var ans=0;\n",
        "            for(var i in student){\n",
        "                zone.innerHTML += \"<li>Student \"+i+\": \"+student[i]+\"%\";\n",
        "                numStudents++;\n",
        "                sum=sum+student[i];\n",
        "            }\n",
        "            zone.innerHTML += \"</ul>\";\n",
        "            ans=Math.round(sum/numStudents);\n",
        "            zone.innerHTML += \"student average is \"+ans+\"%\";\n",
        "            \"\"\".replace(\"myfirstid\", str(self.uuid))\n",
        "        display_javascript(js, raw=True)"
      ]
    },
    {
      "cell_type": "code",
      "execution_count": null,
      "metadata": {
        "collapsed": false
      },
      "outputs": [
        {
          "data": {
            "text/html": [
              "<div id=\"5c8b13e5-ce96-4bd1-adda-e2a325e57514\" style=\"height: 100%; width:100%;\"></div>"
            ]
          },
          "metadata": {},
          "output_type": "display_data"
        },
        {
          "data": {
            "application/javascript": [
              "\n",
              "            var zone = document.getElementById(\"5c8b13e5-ce96-4bd1-adda-e2a325e57514\");\n",
              "            var student = new Array();\n",
              "            student[1]=23;\n",
              "            student[2]=34;\n",
              "            student[3]=67;\n",
              "            student[4]=76;\n",
              "            student[5]=51;\n",
              "            student[6]=72;\n",
              "            zone.innerHTML = \"<b>Student results</b>\";\n",
              "            zone.innerHTML += \"<ul>\";\n",
              "            var numStudents=0;\n",
              "            var sum=0;\n",
              "            var ans=0;\n",
              "            for(var i in student){\n",
              "                zone.innerHTML += \"<li>Student \"+i+\": \"+student[i]+\"%\";\n",
              "                numStudents++;\n",
              "                sum=sum+student[i];\n",
              "            }\n",
              "            zone.innerHTML += \"</ul>\";\n",
              "            ans=Math.round(sum/numStudents);\n",
              "            zone.innerHTML += \"student average is \"+ans+\"%\";\n",
              "            "
            ]
          },
          "metadata": {},
          "output_type": "display_data"
        }
      ],
      "source": [
        "MyCustomObject()"
      ]
    },
    {
      "cell_type": "markdown",
      "metadata": {},
      "source": [
        "## JSON\n",
        "\n",
        "Inspired from [Pretty JSON Formatting in IPython Notebook](http://stackoverflow.com/questions/18873066/pretty-json-formatting-in-ipython-notebook). We use the trick described just above. The only addition is the use of an external library [renderjson](https://github.com/caldwell/renderjson). The code is here : [json_helper.py](https://github.com/sdpython/jyquickhelper/blob/master/src/jyquickhelper/json_helper.py#L11)."
      ]
    },
    {
      "cell_type": "code",
      "execution_count": null,
      "metadata": {
        "collapsed": false
      },
      "outputs": [
        {
          "data": {
            "text/html": [
              "<div id=\"9f59c1d2-19c6-4daa-ac55-1c12213c7991\" style=\"height: 100%; width:100%;\"></div>\n",
              "<script>\n",
              "\n",
              "        require([\"https://rawgit.com/caldwell/renderjson/master/renderjson.js\"], function() {\n",
              "        document.getElementById('9f59c1d2-19c6-4daa-ac55-1c12213c7991').appendChild(renderjson({\"city\": \"Paris\", \"name\": \"xavier\"}))\n",
              "        }); \n",
              "</script>\n"
            ],
            "text/plain": [
              "<jyquickhelper.json_helper.RenderJSON at 0x116a3936940>"
            ]
          },
          "execution_count": null,
          "metadata": {},
          "output_type": "execute_result"
        }
      ],
      "source": [
        "from jyquickhelper import JSONJS\n",
        "JSONJS(dict(name=\"xavier\", city=\"Paris\"), html_only=True)"
      ]
    },
    {
      "cell_type": "code",
      "execution_count": null,
      "metadata": {
        "collapsed": false
      },
      "outputs": [
        {
          "data": {
            "text/html": [
              "<div id=\"7ceb8ca8-88e8-44de-92c4-54ca57b73e9b\" style=\"height: 100%; width:100%;\"></div>\n",
              "<script>\n",
              "\n",
              "        require([\"https://rawgit.com/caldwell/renderjson/master/renderjson.js\"], function() {\n",
              "        document.getElementById('7ceb8ca8-88e8-44de-92c4-54ca57b73e9b').appendChild(renderjson([{\"total\": 52, \"page\": 1, \"pages\": 2, \"per_page\": \"50\"}, [{\"iso2Code\": \"AM\", \"lendingType\": {\"id\": \"IBD\", \"value\": \"IBRD\"}, \"id\": \"ARM\", \"region\": {\"id\": \"ECS\", \"value\": \"Europe & Central Asia\"}, \"adminregion\": {\"id\": \"ECA\", \"value\": \"Europe & Central Asia (excluding high income)\"}, \"longitude\": \"44.509\", \"incomeLevel\": {\"id\": \"LMC\", \"value\": \"Lower middle income\"}, \"latitude\": \"40.1596\", \"capitalCity\": \"Yerevan\", \"name\": \"Armenia\"}, {\"iso2Code\": \"BD\", \"lendingType\": {\"id\": \"IDX\", \"value\": \"IDA\"}, \"id\": \"BGD\", \"region\": {\"id\": \"SAS\", \"value\": \"South Asia\"}, \"adminregion\": {\"id\": \"SAS\", \"value\": \"South Asia\"}, \"longitude\": \"90.4113\", \"incomeLevel\": {\"id\": \"LMC\", \"value\": \"Lower middle income\"}, \"latitude\": \"23.7055\", \"capitalCity\": \"Dhaka\", \"name\": \"Bangladesh\"}, {\"iso2Code\": \"BO\", \"lendingType\": {\"id\": \"IDB\", \"value\": \"Blend\"}, \"id\": \"BOL\", \"region\": {\"id\": \"LCN\", \"value\": \"Latin America & Caribbean \"}, \"adminregion\": {\"id\": \"LAC\", \"value\": \"Latin America & Caribbean (excluding high income)\"}, \"longitude\": \"-66.1936\", \"incomeLevel\": {\"id\": \"LMC\", \"value\": \"Lower middle income\"}, \"latitude\": \"-13.9908\", \"capitalCity\": \"La Paz\", \"name\": \"Bolivia\"}, {\"iso2Code\": \"BT\", \"lendingType\": {\"id\": \"IDX\", \"value\": \"IDA\"}, \"id\": \"BTN\", \"region\": {\"id\": \"SAS\", \"value\": \"South Asia\"}, \"adminregion\": {\"id\": \"SAS\", \"value\": \"South Asia\"}, \"longitude\": \"89.6177\", \"incomeLevel\": {\"id\": \"LMC\", \"value\": \"Lower middle income\"}, \"latitude\": \"27.5768\", \"capitalCity\": \"Thimphu\", \"name\": \"Bhutan\"}, {\"iso2Code\": \"CI\", \"lendingType\": {\"id\": \"IDX\", \"value\": \"IDA\"}, \"id\": \"CIV\", \"region\": {\"id\": \"SSF\", \"value\": \"Sub-Saharan Africa \"}, \"adminregion\": {\"id\": \"SSA\", \"value\": \"Sub-Saharan Africa (excluding high income)\"}, \"longitude\": \"-4.0305\", \"incomeLevel\": {\"id\": \"LMC\", \"value\": \"Lower middle income\"}, \"latitude\": \"5.332\", \"capitalCity\": \"Yamoussoukro\", \"name\": \"Cote d'Ivoire\"}, {\"iso2Code\": \"CM\", \"lendingType\": {\"id\": \"IDB\", \"value\": \"Blend\"}, \"id\": \"CMR\", \"region\": {\"id\": \"SSF\", \"value\": \"Sub-Saharan Africa \"}, \"adminregion\": {\"id\": \"SSA\", \"value\": \"Sub-Saharan Africa (excluding high income)\"}, \"longitude\": \"11.5174\", \"incomeLevel\": {\"id\": \"LMC\", \"value\": \"Lower middle income\"}, \"latitude\": \"3.8721\", \"capitalCity\": \"Yaounde\", \"name\": \"Cameroon\"}, {\"iso2Code\": \"CG\", \"lendingType\": {\"id\": \"IDB\", \"value\": \"Blend\"}, \"id\": \"COG\", \"region\": {\"id\": \"SSF\", \"value\": \"Sub-Saharan Africa \"}, \"adminregion\": {\"id\": \"SSA\", \"value\": \"Sub-Saharan Africa (excluding high income)\"}, \"longitude\": \"15.2662\", \"incomeLevel\": {\"id\": \"LMC\", \"value\": \"Lower middle income\"}, \"latitude\": \"-4.2767\", \"capitalCity\": \"Brazzaville\", \"name\": \"Congo, Rep.\"}, {\"iso2Code\": \"CV\", \"lendingType\": {\"id\": \"IDB\", \"value\": \"Blend\"}, \"id\": \"CPV\", \"region\": {\"id\": \"SSF\", \"value\": \"Sub-Saharan Africa \"}, \"adminregion\": {\"id\": \"SSA\", \"value\": \"Sub-Saharan Africa (excluding high income)\"}, \"longitude\": \"-23.5087\", \"incomeLevel\": {\"id\": \"LMC\", \"value\": \"Lower middle income\"}, \"latitude\": \"14.9218\", \"capitalCity\": \"Praia\", \"name\": \"Cabo Verde\"}, {\"iso2Code\": \"DJ\", \"lendingType\": {\"id\": \"IDX\", \"value\": \"IDA\"}, \"id\": \"DJI\", \"region\": {\"id\": \"MEA\", \"value\": \"Middle East & North Africa\"}, \"adminregion\": {\"id\": \"MNA\", \"value\": \"Middle East & North Africa (excluding high income)\"}, \"longitude\": \"43.1425\", \"incomeLevel\": {\"id\": \"LMC\", \"value\": \"Lower middle income\"}, \"latitude\": \"11.5806\", \"capitalCity\": \"Djibouti\", \"name\": \"Djibouti\"}, {\"iso2Code\": \"EG\", \"lendingType\": {\"id\": \"IBD\", \"value\": \"IBRD\"}, \"id\": \"EGY\", \"region\": {\"id\": \"MEA\", \"value\": \"Middle East & North Africa\"}, \"adminregion\": {\"id\": \"MNA\", \"value\": \"Middle East & North Africa (excluding high income)\"}, \"longitude\": \"31.2461\", \"incomeLevel\": {\"id\": \"LMC\", \"value\": \"Lower middle income\"}, \"latitude\": \"30.0982\", \"capitalCity\": \"Cairo\", \"name\": \"Egypt, Arab Rep.\"}, {\"iso2Code\": \"FM\", \"lendingType\": {\"id\": \"IDX\", \"value\": \"IDA\"}, \"id\": \"FSM\", \"region\": {\"id\": \"EAS\", \"value\": \"East Asia & Pacific\"}, \"adminregion\": {\"id\": \"EAP\", \"value\": \"East Asia & Pacific (excluding high income)\"}, \"longitude\": \"158.185\", \"incomeLevel\": {\"id\": \"LMC\", \"value\": \"Lower middle income\"}, \"latitude\": \"6.91771\", \"capitalCity\": \"Palikir\", \"name\": \"Micronesia, Fed. Sts.\"}, {\"iso2Code\": \"GH\", \"lendingType\": {\"id\": \"IDX\", \"value\": \"IDA\"}, \"id\": \"GHA\", \"region\": {\"id\": \"SSF\", \"value\": \"Sub-Saharan Africa \"}, \"adminregion\": {\"id\": \"SSA\", \"value\": \"Sub-Saharan Africa (excluding high income)\"}, \"longitude\": \"-0.20795\", \"incomeLevel\": {\"id\": \"LMC\", \"value\": \"Lower middle income\"}, \"latitude\": \"5.57045\", \"capitalCity\": \"Accra\", \"name\": \"Ghana\"}, {\"iso2Code\": \"GT\", \"lendingType\": {\"id\": \"IBD\", \"value\": \"IBRD\"}, \"id\": \"GTM\", \"region\": {\"id\": \"LCN\", \"value\": \"Latin America & Caribbean \"}, \"adminregion\": {\"id\": \"LAC\", \"value\": \"Latin America & Caribbean (excluding high income)\"}, \"longitude\": \"-90.5328\", \"incomeLevel\": {\"id\": \"LMC\", \"value\": \"Lower middle income\"}, \"latitude\": \"14.6248\", \"capitalCity\": \"Guatemala City\", \"name\": \"Guatemala\"}, {\"iso2Code\": \"HN\", \"lendingType\": {\"id\": \"IDX\", \"value\": \"IDA\"}, \"id\": \"HND\", \"region\": {\"id\": \"LCN\", \"value\": \"Latin America & Caribbean \"}, \"adminregion\": {\"id\": \"LAC\", \"value\": \"Latin America & Caribbean (excluding high income)\"}, \"longitude\": \"-87.4667\", \"incomeLevel\": {\"id\": \"LMC\", \"value\": \"Lower middle income\"}, \"latitude\": \"15.1333\", \"capitalCity\": \"Tegucigalpa\", \"name\": \"Honduras\"}, {\"iso2Code\": \"ID\", \"lendingType\": {\"id\": \"IBD\", \"value\": \"IBRD\"}, \"id\": \"IDN\", \"region\": {\"id\": \"EAS\", \"value\": \"East Asia & Pacific\"}, \"adminregion\": {\"id\": \"EAP\", \"value\": \"East Asia & Pacific (excluding high income)\"}, \"longitude\": \"106.83\", \"incomeLevel\": {\"id\": \"LMC\", \"value\": \"Lower middle income\"}, \"latitude\": \"-6.19752\", \"capitalCity\": \"Jakarta\", \"name\": \"Indonesia\"}, {\"iso2Code\": \"IN\", \"lendingType\": {\"id\": \"IBD\", \"value\": \"IBRD\"}, \"id\": \"IND\", \"region\": {\"id\": \"SAS\", \"value\": \"South Asia\"}, \"adminregion\": {\"id\": \"SAS\", \"value\": \"South Asia\"}, \"longitude\": \"77.225\", \"incomeLevel\": {\"id\": \"LMC\", \"value\": \"Lower middle income\"}, \"latitude\": \"28.6353\", \"capitalCity\": \"New Delhi\", \"name\": \"India\"}, {\"iso2Code\": \"KE\", \"lendingType\": {\"id\": \"IDX\", \"value\": \"IDA\"}, \"id\": \"KEN\", \"region\": {\"id\": \"SSF\", \"value\": \"Sub-Saharan Africa \"}, \"adminregion\": {\"id\": \"SSA\", \"value\": \"Sub-Saharan Africa (excluding high income)\"}, \"longitude\": \"36.8126\", \"incomeLevel\": {\"id\": \"LMC\", \"value\": \"Lower middle income\"}, \"latitude\": \"-1.27975\", \"capitalCity\": \"Nairobi\", \"name\": \"Kenya\"}, {\"iso2Code\": \"KG\", \"lendingType\": {\"id\": \"IDX\", \"value\": \"IDA\"}, \"id\": \"KGZ\", \"region\": {\"id\": \"ECS\", \"value\": \"Europe & Central Asia\"}, \"adminregion\": {\"id\": \"ECA\", \"value\": \"Europe & Central Asia (excluding high income)\"}, \"longitude\": \"74.6057\", \"incomeLevel\": {\"id\": \"LMC\", \"value\": \"Lower middle income\"}, \"latitude\": \"42.8851\", \"capitalCity\": \"Bishkek\", \"name\": \"Kyrgyz Republic\"}, {\"iso2Code\": \"KH\", \"lendingType\": {\"id\": \"IDX\", \"value\": \"IDA\"}, \"id\": \"KHM\", \"region\": {\"id\": \"EAS\", \"value\": \"East Asia & Pacific\"}, \"adminregion\": {\"id\": \"EAP\", \"value\": \"East Asia & Pacific (excluding high income)\"}, \"longitude\": \"104.874\", \"incomeLevel\": {\"id\": \"LMC\", \"value\": \"Lower middle income\"}, \"latitude\": \"11.5556\", \"capitalCity\": \"Phnom Penh\", \"name\": \"Cambodia\"}, {\"iso2Code\": \"KI\", \"lendingType\": {\"id\": \"IDX\", \"value\": \"IDA\"}, \"id\": \"KIR\", \"region\": {\"id\": \"EAS\", \"value\": \"East Asia & Pacific\"}, \"adminregion\": {\"id\": \"EAP\", \"value\": \"East Asia & Pacific (excluding high income)\"}, \"longitude\": \"172.979\", \"incomeLevel\": {\"id\": \"LMC\", \"value\": \"Lower middle income\"}, \"latitude\": \"1.32905\", \"capitalCity\": \"Tarawa\", \"name\": \"Kiribati\"}, {\"iso2Code\": \"XK\", \"lendingType\": {\"id\": \"IDX\", \"value\": \"IDA\"}, \"id\": \"KSV\", \"region\": {\"id\": \"ECS\", \"value\": \"Europe & Central Asia\"}, \"adminregion\": {\"id\": \"ECA\", \"value\": \"Europe & Central Asia (excluding high income)\"}, \"longitude\": \"20.926\", \"incomeLevel\": {\"id\": \"LMC\", \"value\": \"Lower middle income\"}, \"latitude\": \"42.565\", \"capitalCity\": \"Pristina\", \"name\": \"Kosovo\"}, {\"iso2Code\": \"LA\", \"lendingType\": {\"id\": \"IDX\", \"value\": \"IDA\"}, \"id\": \"LAO\", \"region\": {\"id\": \"EAS\", \"value\": \"East Asia & Pacific\"}, \"adminregion\": {\"id\": \"EAP\", \"value\": \"East Asia & Pacific (excluding high income)\"}, \"longitude\": \"102.177\", \"incomeLevel\": {\"id\": \"LMC\", \"value\": \"Lower middle income\"}, \"latitude\": \"18.5826\", \"capitalCity\": \"Vientiane\", \"name\": \"Lao PDR\"}, {\"iso2Code\": \"LK\", \"lendingType\": {\"id\": \"IDB\", \"value\": \"Blend\"}, \"id\": \"LKA\", \"region\": {\"id\": \"SAS\", \"value\": \"South Asia\"}, \"adminregion\": {\"id\": \"SAS\", \"value\": \"South Asia\"}, \"longitude\": \"79.8528\", \"incomeLevel\": {\"id\": \"LMC\", \"value\": \"Lower middle income\"}, \"latitude\": \"6.92148\", \"capitalCity\": \"Colombo\", \"name\": \"Sri Lanka\"}, {\"iso2Code\": \"LS\", \"lendingType\": {\"id\": \"IDX\", \"value\": \"IDA\"}, \"id\": \"LSO\", \"region\": {\"id\": \"SSF\", \"value\": \"Sub-Saharan Africa \"}, \"adminregion\": {\"id\": \"SSA\", \"value\": \"Sub-Saharan Africa (excluding high income)\"}, \"longitude\": \"27.7167\", \"incomeLevel\": {\"id\": \"LMC\", \"value\": \"Lower middle income\"}, \"latitude\": \"-29.5208\", \"capitalCity\": \"Maseru\", \"name\": \"Lesotho\"}, {\"iso2Code\": \"MA\", \"lendingType\": {\"id\": \"IBD\", \"value\": \"IBRD\"}, \"id\": \"MAR\", \"region\": {\"id\": \"MEA\", \"value\": \"Middle East & North Africa\"}, \"adminregion\": {\"id\": \"MNA\", \"value\": \"Middle East & North Africa (excluding high income)\"}, \"longitude\": \"-6.8704\", \"incomeLevel\": {\"id\": \"LMC\", \"value\": \"Lower middle income\"}, \"latitude\": \"33.9905\", \"capitalCity\": \"Rabat\", \"name\": \"Morocco\"}, {\"iso2Code\": \"MD\", \"lendingType\": {\"id\": \"IDB\", \"value\": \"Blend\"}, \"id\": \"MDA\", \"region\": {\"id\": \"ECS\", \"value\": \"Europe & Central Asia\"}, \"adminregion\": {\"id\": \"ECA\", \"value\": \"Europe & Central Asia (excluding high income)\"}, \"longitude\": \"28.8497\", \"incomeLevel\": {\"id\": \"LMC\", \"value\": \"Lower middle income\"}, \"latitude\": \"47.0167\", \"capitalCity\": \"Chisinau\", \"name\": \"Moldova\"}, {\"iso2Code\": \"MM\", \"lendingType\": {\"id\": \"IDX\", \"value\": \"IDA\"}, \"id\": \"MMR\", \"region\": {\"id\": \"EAS\", \"value\": \"East Asia & Pacific\"}, \"adminregion\": {\"id\": \"EAP\", \"value\": \"East Asia & Pacific (excluding high income)\"}, \"longitude\": \"95.9562\", \"incomeLevel\": {\"id\": \"LMC\", \"value\": \"Lower middle income\"}, \"latitude\": \"21.914\", \"capitalCity\": \"Naypyidaw\", \"name\": \"Myanmar\"}, {\"iso2Code\": \"MN\", \"lendingType\": {\"id\": \"IDB\", \"value\": \"Blend\"}, \"id\": \"MNG\", \"region\": {\"id\": \"EAS\", \"value\": \"East Asia & Pacific\"}, \"adminregion\": {\"id\": \"EAP\", \"value\": \"East Asia & Pacific (excluding high income)\"}, \"longitude\": \"106.937\", \"incomeLevel\": {\"id\": \"LMC\", \"value\": \"Lower middle income\"}, \"latitude\": \"47.9129\", \"capitalCity\": \"Ulaanbaatar\", \"name\": \"Mongolia\"}, {\"iso2Code\": \"MR\", \"lendingType\": {\"id\": \"IDX\", \"value\": \"IDA\"}, \"id\": \"MRT\", \"region\": {\"id\": \"SSF\", \"value\": \"Sub-Saharan Africa \"}, \"adminregion\": {\"id\": \"SSA\", \"value\": \"Sub-Saharan Africa (excluding high income)\"}, \"longitude\": \"-15.9824\", \"incomeLevel\": {\"id\": \"LMC\", \"value\": \"Lower middle income\"}, \"latitude\": \"18.2367\", \"capitalCity\": \"Nouakchott\", \"name\": \"Mauritania\"}, {\"iso2Code\": \"NG\", \"lendingType\": {\"id\": \"IDB\", \"value\": \"Blend\"}, \"id\": \"NGA\", \"region\": {\"id\": \"SSF\", \"value\": \"Sub-Saharan Africa \"}, \"adminregion\": {\"id\": \"SSA\", \"value\": \"Sub-Saharan Africa (excluding high income)\"}, \"longitude\": \"7.48906\", \"incomeLevel\": {\"id\": \"LMC\", \"value\": \"Lower middle income\"}, \"latitude\": \"9.05804\", \"capitalCity\": \"Abuja\", \"name\": \"Nigeria\"}, {\"iso2Code\": \"NI\", \"lendingType\": {\"id\": \"IDX\", \"value\": \"IDA\"}, \"id\": \"NIC\", \"region\": {\"id\": \"LCN\", \"value\": \"Latin America & Caribbean \"}, \"adminregion\": {\"id\": \"LAC\", \"value\": \"Latin America & Caribbean (excluding high income)\"}, \"longitude\": \"-86.2734\", \"incomeLevel\": {\"id\": \"LMC\", \"value\": \"Lower middle income\"}, \"latitude\": \"12.1475\", \"capitalCity\": \"Managua\", \"name\": \"Nicaragua\"}, {\"iso2Code\": \"PK\", \"lendingType\": {\"id\": \"IDB\", \"value\": \"Blend\"}, \"id\": \"PAK\", \"region\": {\"id\": \"SAS\", \"value\": \"South Asia\"}, \"adminregion\": {\"id\": \"SAS\", \"value\": \"South Asia\"}, \"longitude\": \"72.8\", \"incomeLevel\": {\"id\": \"LMC\", \"value\": \"Lower middle income\"}, \"latitude\": \"30.5167\", \"capitalCity\": \"Islamabad\", \"name\": \"Pakistan\"}, {\"iso2Code\": \"PH\", \"lendingType\": {\"id\": \"IBD\", \"value\": \"IBRD\"}, \"id\": \"PHL\", \"region\": {\"id\": \"EAS\", \"value\": \"East Asia & Pacific\"}, \"adminregion\": {\"id\": \"EAP\", \"value\": \"East Asia & Pacific (excluding high income)\"}, \"longitude\": \"121.035\", \"incomeLevel\": {\"id\": \"LMC\", \"value\": \"Lower middle income\"}, \"latitude\": \"14.5515\", \"capitalCity\": \"Manila\", \"name\": \"Philippines\"}, {\"iso2Code\": \"PG\", \"lendingType\": {\"id\": \"IDB\", \"value\": \"Blend\"}, \"id\": \"PNG\", \"region\": {\"id\": \"EAS\", \"value\": \"East Asia & Pacific\"}, \"adminregion\": {\"id\": \"EAP\", \"value\": \"East Asia & Pacific (excluding high income)\"}, \"longitude\": \"147.194\", \"incomeLevel\": {\"id\": \"LMC\", \"value\": \"Lower middle income\"}, \"latitude\": \"-9.47357\", \"capitalCity\": \"Port Moresby\", \"name\": \"Papua New Guinea\"}, {\"iso2Code\": \"PS\", \"lendingType\": {\"id\": \"LNX\", \"value\": \"Not classified\"}, \"id\": \"PSE\", \"region\": {\"id\": \"MEA\", \"value\": \"Middle East & North Africa\"}, \"adminregion\": {\"id\": \"MNA\", \"value\": \"Middle East & North Africa (excluding high income)\"}, \"longitude\": \"\", \"incomeLevel\": {\"id\": \"LMC\", \"value\": \"Lower middle income\"}, \"latitude\": \"\", \"capitalCity\": \"\", \"name\": \"West Bank and Gaza\"}, {\"iso2Code\": \"SD\", \"lendingType\": {\"id\": \"IDX\", \"value\": \"IDA\"}, \"id\": \"SDN\", \"region\": {\"id\": \"SSF\", \"value\": \"Sub-Saharan Africa \"}, \"adminregion\": {\"id\": \"SSA\", \"value\": \"Sub-Saharan Africa (excluding high income)\"}, \"longitude\": \"32.5363\", \"incomeLevel\": {\"id\": \"LMC\", \"value\": \"Lower middle income\"}, \"latitude\": \"15.5932\", \"capitalCity\": \"Khartoum\", \"name\": \"Sudan\"}, {\"iso2Code\": \"SB\", \"lendingType\": {\"id\": \"IDX\", \"value\": \"IDA\"}, \"id\": \"SLB\", \"region\": {\"id\": \"EAS\", \"value\": \"East Asia & Pacific\"}, \"adminregion\": {\"id\": \"EAP\", \"value\": \"East Asia & Pacific (excluding high income)\"}, \"longitude\": \"159.949\", \"incomeLevel\": {\"id\": \"LMC\", \"value\": \"Lower middle income\"}, \"latitude\": \"-9.42676\", \"capitalCity\": \"Honiara\", \"name\": \"Solomon Islands\"}, {\"iso2Code\": \"SV\", \"lendingType\": {\"id\": \"IBD\", \"value\": \"IBRD\"}, \"id\": \"SLV\", \"region\": {\"id\": \"LCN\", \"value\": \"Latin America & Caribbean \"}, \"adminregion\": {\"id\": \"LAC\", \"value\": \"Latin America & Caribbean (excluding high income)\"}, \"longitude\": \"-89.2073\", \"incomeLevel\": {\"id\": \"LMC\", \"value\": \"Lower middle income\"}, \"latitude\": \"13.7034\", \"capitalCity\": \"San Salvador\", \"name\": \"El Salvador\"}, {\"iso2Code\": \"ST\", \"lendingType\": {\"id\": \"IDX\", \"value\": \"IDA\"}, \"id\": \"STP\", \"region\": {\"id\": \"SSF\", \"value\": \"Sub-Saharan Africa \"}, \"adminregion\": {\"id\": \"SSA\", \"value\": \"Sub-Saharan Africa (excluding high income)\"}, \"longitude\": \"6.6071\", \"incomeLevel\": {\"id\": \"LMC\", \"value\": \"Lower middle income\"}, \"latitude\": \"0.20618\", \"capitalCity\": \"Sao Tome\", \"name\": \"Sao Tome and Principe\"}, {\"iso2Code\": \"SZ\", \"lendingType\": {\"id\": \"IBD\", \"value\": \"IBRD\"}, \"id\": \"SWZ\", \"region\": {\"id\": \"SSF\", \"value\": \"Sub-Saharan Africa \"}, \"adminregion\": {\"id\": \"SSA\", \"value\": \"Sub-Saharan Africa (excluding high income)\"}, \"longitude\": \"31.4659\", \"incomeLevel\": {\"id\": \"LMC\", \"value\": \"Lower middle income\"}, \"latitude\": \"-26.5225\", \"capitalCity\": \"Mbabane\", \"name\": \"Swaziland\"}, {\"iso2Code\": \"SY\", \"lendingType\": {\"id\": \"IBD\", \"value\": \"IBRD\"}, \"id\": \"SYR\", \"region\": {\"id\": \"MEA\", \"value\": \"Middle East & North Africa\"}, \"adminregion\": {\"id\": \"MNA\", \"value\": \"Middle East & North Africa (excluding high income)\"}, \"longitude\": \"36.3119\", \"incomeLevel\": {\"id\": \"LMC\", \"value\": \"Lower middle income\"}, \"latitude\": \"33.5146\", \"capitalCity\": \"Damascus\", \"name\": \"Syrian Arab Republic\"}, {\"iso2Code\": \"TJ\", \"lendingType\": {\"id\": \"IDX\", \"value\": \"IDA\"}, \"id\": \"TJK\", \"region\": {\"id\": \"ECS\", \"value\": \"Europe & Central Asia\"}, \"adminregion\": {\"id\": \"ECA\", \"value\": \"Europe & Central Asia (excluding high income)\"}, \"longitude\": \"68.7864\", \"incomeLevel\": {\"id\": \"LMC\", \"value\": \"Lower middle income\"}, \"latitude\": \"38.5878\", \"capitalCity\": \"Dushanbe\", \"name\": \"Tajikistan\"}, {\"iso2Code\": \"TL\", \"lendingType\": {\"id\": \"IDB\", \"value\": \"Blend\"}, \"id\": \"TLS\", \"region\": {\"id\": \"EAS\", \"value\": \"East Asia & Pacific\"}, \"adminregion\": {\"id\": \"EAP\", \"value\": \"East Asia & Pacific (excluding high income)\"}, \"longitude\": \"125.567\", \"incomeLevel\": {\"id\": \"LMC\", \"value\": \"Lower middle income\"}, \"latitude\": \"-8.56667\", \"capitalCity\": \"Dili\", \"name\": \"Timor-Leste\"}, {\"iso2Code\": \"TO\", \"lendingType\": {\"id\": \"IDX\", \"value\": \"IDA\"}, \"id\": \"TON\", \"region\": {\"id\": \"EAS\", \"value\": \"East Asia & Pacific\"}, \"adminregion\": {\"id\": \"EAP\", \"value\": \"East Asia & Pacific (excluding high income)\"}, \"longitude\": \"-175.216\", \"incomeLevel\": {\"id\": \"LMC\", \"value\": \"Lower middle income\"}, \"latitude\": \"-21.136\", \"capitalCity\": \"Nuku'alofa\", \"name\": \"Tonga\"}, {\"iso2Code\": \"TN\", \"lendingType\": {\"id\": \"IBD\", \"value\": \"IBRD\"}, \"id\": \"TUN\", \"region\": {\"id\": \"MEA\", \"value\": \"Middle East & North Africa\"}, \"adminregion\": {\"id\": \"MNA\", \"value\": \"Middle East & North Africa (excluding high income)\"}, \"longitude\": \"10.21\", \"incomeLevel\": {\"id\": \"LMC\", \"value\": \"Lower middle income\"}, \"latitude\": \"36.7899\", \"capitalCity\": \"Tunis\", \"name\": \"Tunisia\"}, {\"iso2Code\": \"UA\", \"lendingType\": {\"id\": \"IBD\", \"value\": \"IBRD\"}, \"id\": \"UKR\", \"region\": {\"id\": \"ECS\", \"value\": \"Europe & Central Asia\"}, \"adminregion\": {\"id\": \"ECA\", \"value\": \"Europe & Central Asia (excluding high income)\"}, \"longitude\": \"30.5038\", \"incomeLevel\": {\"id\": \"LMC\", \"value\": \"Lower middle income\"}, \"latitude\": \"50.4536\", \"capitalCity\": \"Kiev\", \"name\": \"Ukraine\"}, {\"iso2Code\": \"UZ\", \"lendingType\": {\"id\": \"IDB\", \"value\": \"Blend\"}, \"id\": \"UZB\", \"region\": {\"id\": \"ECS\", \"value\": \"Europe & Central Asia\"}, \"adminregion\": {\"id\": \"ECA\", \"value\": \"Europe & Central Asia (excluding high income)\"}, \"longitude\": \"69.269\", \"incomeLevel\": {\"id\": \"LMC\", \"value\": \"Lower middle income\"}, \"latitude\": \"41.3052\", \"capitalCity\": \"Tashkent\", \"name\": \"Uzbekistan\"}, {\"iso2Code\": \"VN\", \"lendingType\": {\"id\": \"IDB\", \"value\": \"Blend\"}, \"id\": \"VNM\", \"region\": {\"id\": \"EAS\", \"value\": \"East Asia & Pacific\"}, \"adminregion\": {\"id\": \"EAP\", \"value\": \"East Asia & Pacific (excluding high income)\"}, \"longitude\": \"105.825\", \"incomeLevel\": {\"id\": \"LMC\", \"value\": \"Lower middle income\"}, \"latitude\": \"21.0069\", \"capitalCity\": \"Hanoi\", \"name\": \"Vietnam\"}, {\"iso2Code\": \"VU\", \"lendingType\": {\"id\": \"IDX\", \"value\": \"IDA\"}, \"id\": \"VUT\", \"region\": {\"id\": \"EAS\", \"value\": \"East Asia & Pacific\"}, \"adminregion\": {\"id\": \"EAP\", \"value\": \"East Asia & Pacific (excluding high income)\"}, \"longitude\": \"168.321\", \"incomeLevel\": {\"id\": \"LMC\", \"value\": \"Lower middle income\"}, \"latitude\": \"-17.7404\", \"capitalCity\": \"Port-Vila\", \"name\": \"Vanuatu\"}, {\"iso2Code\": \"WS\", \"lendingType\": {\"id\": \"IDX\", \"value\": \"IDA\"}, \"id\": \"WSM\", \"region\": {\"id\": \"EAS\", \"value\": \"East Asia & Pacific\"}, \"adminregion\": {\"id\": \"EAP\", \"value\": \"East Asia & Pacific (excluding high income)\"}, \"longitude\": \"-171.752\", \"incomeLevel\": {\"id\": \"LMC\", \"value\": \"Lower middle income\"}, \"latitude\": \"-13.8314\", \"capitalCity\": \"Apia\", \"name\": \"Samoa\"}]]))\n",
              "        }); \n",
              "</script>\n"
            ],
            "text/plain": [
              "<jyquickhelper.json_helper.RenderJSON at 0x116a38a2c18>"
            ]
          },
          "execution_count": null,
          "metadata": {},
          "output_type": "execute_result"
        }
      ],
      "source": [
        "import requests\n",
        "data_json = requests.get(\"http://api.worldbank.org/countries?incomeLevel=LMC&format=json\").json()\n",
        "JSONJS(data_json)"
      ]
    },
    {
      "cell_type": "code",
      "execution_count": null,
      "metadata": {
        "collapsed": true
      },
      "outputs": [],
      "source": []
    }
  ],
  "metadata": {
    "kernelspec": {
      "display_name": "Python 3",
      "language": "python",
      "name": "python3"
    },
    "language_info": {
      "codemirror_mode": {
        "name": "ipython",
        "version": 3
      },
      "file_extension": ".py",
      "mimetype": "text/x-python",
      "name": "python",
      "nbconvert_exporter": "python",
      "pygments_lexer": "ipython3",
      "version": "3.5.0"
    }
  },
  "nbformat": 4,
  "nbformat_minor": 1
}