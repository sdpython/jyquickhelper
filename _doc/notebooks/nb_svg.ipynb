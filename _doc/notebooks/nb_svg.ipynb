{
  "cells": [
    {
      "cell_type": "markdown",
      "metadata": {},
      "source": [
        "# Javascript library in a notebook: svg\n",
        "\n",
        "Tries [svg](http://svgjs.com/) in a notebook. Example from [tutorials](http://svgjs.com/tutorials/)."
      ]
    },
    {
      "cell_type": "code",
      "execution_count": 1,
      "metadata": {},
      "outputs": [
        {
          "data": {
            "text/html": [
              "<div id=\"M17ee07c6e08343709568c85737ccb6da-cont\"><div id=\"M17ee07c6e08343709568c85737ccb6da\" style=\"width:100%;height:100%;\"></div></div>\n",
              "<script>\n",
              "\n",
              "require(['http://www.xavierdupre.fr/js/svg/svg.min.js'], function() { \n",
              "var divElement = document.querySelector('#M17ee07c6e08343709568c85737ccb6da');\n",
              "divElement.innerHTML = '<svg id=\"draw\"></svg>';\n",
              "\n",
              "var canvas = SVG('draw').size('600', '300')\n",
              "  , rect = canvas.rect(5, 5)\n",
              "  , path = canvas.path(\"M 340,178 104,478 580,490 Z\")\n",
              "  , length = path.length()\n",
              "  \n",
              "path.fill('none').stroke({width:1, color: '#ccc'}).move(10,10).scale(0.5)\n",
              "path.animate(3000).rotate(365).loop();\n",
              "\n",
              "rect.animate(5000, '<>').during(function(pos, morph, eased){\n",
              "    var m = path.matrixify()\n",
              "    var p = new SVG.Point(path.pointAt(eased * length)).transform(m)\n",
              "    rect.move(p.x, p.y)\n",
              "}).loop(true, true)\n",
              " });\n",
              "\n",
              "</script>\n"
            ],
            "text/plain": [
              "<jyquickhelper.jspy.render_nb_js.RenderJS at 0x28986bebba8>"
            ]
          },
          "execution_count": 2,
          "metadata": {},
          "output_type": "execute_result"
        }
      ],
      "source": [
        "from jyquickhelper import RenderJS\n",
        "css = None\n",
        "libs = ['http://www.xavierdupre.fr/js/svg/svg.min.js']\n",
        "script = \"\"\"\n",
        "var divElement = document.querySelector('#__ID__');\n",
        "divElement.innerHTML = '<svg id=\"draw\"></svg>';\n",
        "\n",
        "var canvas = SVG('draw').size('600', '300')\n",
        "  , rect = canvas.rect(5, 5)\n",
        "  , path = canvas.path(\"M 340,178 104,478 580,490 Z\")\n",
        "  , length = path.length()\n",
        "  \n",
        "path.fill('none').stroke({width:1, color: '#ccc'}).move(10,10).scale(0.5)\n",
        "path.animate(3000).rotate(365).loop();\n",
        "\n",
        "rect.animate(5000, '<>').during(function(pos, morph, eased){\n",
        "    var m = path.matrixify()\n",
        "    var p = new SVG.Point(path.pointAt(eased * length)).transform(m)\n",
        "    rect.move(p.x, p.y)\n",
        "}).loop(true, true)\n",
        "\"\"\"\n",
        "jr = RenderJS(script, css=css, libs=libs)\n",
        "jr"
      ]
    },
    {
      "cell_type": "code",
      "execution_count": 2,
      "metadata": {},
      "outputs": [
        {
          "name": "stdout",
          "output_type": "stream",
          "text": [
            "<div id=\"M17ee07c6e08343709568c85737ccb6da-cont\"><div id=\"M17ee07c6e08343709568c85737ccb6da\" style=\"width:100%;height:100%;\"></div></div>\n",
            "<script>\n",
            "\n",
            "require(['http://www.xavierdupre.fr/js/svg/svg.min.js'], function() { \n",
            "var divElement = document.querySelector('#M17ee07c6e08343709568c85737ccb6da');\n",
            "divElement.innerHTML = '<svg id=\"draw\"></svg>';\n",
            "\n",
            "var canvas = SVG('draw').size('600', '300')\n",
            "  , rect = canvas.rect(5, 5)\n",
            "  , path = canvas.path(\"M 340,178 104,478 580,490 Z\")\n",
            "  , length = path.length()\n",
            "  \n",
            "path.fill('none').stroke({width:1, color: '#ccc'}).move(10,10).scale(0.5)\n",
            "path.animate(3000).rotate(365).loop();\n",
            "\n",
            "rect.animate(5000, '<>').during(function(pos, morph, eased){\n",
            "    var m = path.matrixify()\n",
            "    var p = new SVG.Point(path.pointAt(eased * length)).transform(m)\n",
            "    rect.move(p.x, p.y)\n",
            "}).loop(true, true)\n",
            " });\n",
            "\n",
            "</script>\n",
            "\n"
          ]
        }
      ],
      "source": [
        "print(jr._repr_html_())"
      ]
    },
    {
      "cell_type": "code",
      "execution_count": 3,
      "metadata": {},
      "outputs": [],
      "source": []
    }
  ],
  "metadata": {
    "kernelspec": {
      "display_name": "Python 3",
      "language": "python",
      "name": "python3"
    },
    "language_info": {
      "codemirror_mode": {
        "name": "ipython",
        "version": 3
      },
      "file_extension": ".py",
      "mimetype": "text/x-python",
      "name": "python",
      "nbconvert_exporter": "python",
      "pygments_lexer": "ipython3",
      "version": "3.7.2"
    }
  },
  "nbformat": 4,
  "nbformat_minor": 1
}