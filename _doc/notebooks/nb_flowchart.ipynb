{
  "cells": [
    {
      "cell_type": "markdown",
      "metadata": {},
      "source": [
        "# Javascript library in a notebook: flowchart\n",
        "\n",
        "Tries [flowchart.js](https://flowchart.js.org/) in a notebook."
      ]
    },
    {
      "cell_type": "code",
      "execution_count": 1,
      "metadata": {},
      "outputs": [],
      "source": [
        "css = None\n",
        "libs = [\"http://fperucic.github.io/treant-js/vendor/raphael.js\",\n",
        "        \"http://flowchart.js.org/flowchart-latest.js\"]"
      ]
    },
    {
      "cell_type": "code",
      "execution_count": 2,
      "metadata": {},
      "outputs": [],
      "source": [
        "script = \"\"\" \n",
        "var diagram = flowchart.parse(   \n",
        "    \"st=>start: Start:>http://www.google.com[blank]\\\\n\" +\n",
        "    \"e=>end:>http://www.google.com\\\\n\" +\n",
        "    \"op1=>operation: My Operation\\\\n\" +\n",
        "    \"sub1=>subroutine: My Subroutine\\\\n\" +\n",
        "    \"cond=>condition: Yes\\\\n\" +\n",
        "    \"or No?:>http://www.google.com\\\\n\" +\n",
        "    \"io=>inputoutput: catch something...\\\\n\" +\n",
        "    \"\\\\n\" +\n",
        "    \"st->op1->cond\\\\n\" +\n",
        "    \"cond(yes)->io->e\\\\n\" +\n",
        "    \"cond(no)->sub1(right)->op1\");\n",
        "diagram.drawSVG('__ID__');\n",
        "\"\"\""
      ]
    },
    {
      "cell_type": "code",
      "execution_count": 3,
      "metadata": {},
      "outputs": [
        {
          "data": {
            "text/html": [
              "<div id=\"Mba9f94263b9640f2b2d3f9322b6b00ed-cont\"><div class=\"chart\" id=\"Mba9f94263b9640f2b2d3f9322b6b00ed\"></div></div>\n",
              "<script>\n",
              "\n",
              "require(['http://fperucic.github.io/treant-js/vendor/raphael.js','http://flowchart.js.org/flowchart-latest.js'], function() {  \n",
              "var diagram = flowchart.parse(   \n",
              "    \"st=>start: Start:>http://www.google.com[blank]\\n\" +\n",
              "    \"e=>end:>http://www.google.com\\n\" +\n",
              "    \"op1=>operation: My Operation\\n\" +\n",
              "    \"sub1=>subroutine: My Subroutine\\n\" +\n",
              "    \"cond=>condition: Yes\\n\" +\n",
              "    \"or No?:>http://www.google.com\\n\" +\n",
              "    \"io=>inputoutput: catch something...\\n\" +\n",
              "    \"\\n\" +\n",
              "    \"st->op1->cond\\n\" +\n",
              "    \"cond(yes)->io->e\\n\" +\n",
              "    \"cond(no)->sub1(right)->op1\");\n",
              "diagram.drawSVG('Mba9f94263b9640f2b2d3f9322b6b00ed');\n",
              " });\n",
              "\n",
              "</script>\n"
            ],
            "text/plain": [
              "<jyquickhelper.jspy.javascript_helper.RenderJS at 0x27311cec128>"
            ]
          },
          "execution_count": 4,
          "metadata": {},
          "output_type": "execute_result"
        }
      ],
      "source": [
        "from jyquickhelper import RenderJS\n",
        "jr = RenderJS(script=script, css=css, libs=libs,\n",
        "         div_class=\"chart\", height=None, width=None)\n",
        "jr"
      ]
    },
    {
      "cell_type": "code",
      "execution_count": 4,
      "metadata": {},
      "outputs": [
        {
          "data": {
            "text/plain": [
              "'<div id=\"Mba9f94263b9640f2b2d3f9322b6b00ed-cont\"><div class=\"chart\" id=\"Mba9f94263b9640f2b2d3f9322b6b00ed\"></div></div>'"
            ]
          },
          "execution_count": 5,
          "metadata": {},
          "output_type": "execute_result"
        }
      ],
      "source": [
        "jr.generate_html()[0]"
      ]
    },
    {
      "cell_type": "code",
      "execution_count": 5,
      "metadata": {},
      "outputs": [
        {
          "name": "stdout",
          "output_type": "stream",
          "text": [
            "\n",
            "require(['http://fperucic.github.io/treant-js/vendor/raphael.js','http://flowchart.js.org/flowchart-latest.js'], function() {  \n",
            "var diagram = flowchart.parse(   \n",
            "    \"st=>start: Start:>http://www.google.com[blank]\\n\" +\n",
            "    \"e=>end:>http://www.google.com\\n\" +\n",
            "    \"op1=>operation: My Operation\\n\" +\n",
            "    \"sub1=>subroutine: My Subroutine\\n\" +\n",
            "    \"cond=>condition: Yes\\n\" +\n",
            "    \"or No?:>http://www.google.com\\n\" +\n",
            "    \"io=>inputoutput: catch something...\\n\" +\n",
            "    \"\\n\" +\n",
            "    \"st->op1->cond\\n\" +\n",
            "    \"cond(yes)->io->e\\n\" +\n",
            "    \"cond(no)->sub1(right)->op1\");\n",
            "diagram.drawSVG('Mba9f94263b9640f2b2d3f9322b6b00ed');\n",
            " });\n",
            "\n"
          ]
        }
      ],
      "source": [
        "print(jr.generate_html()[1])"
      ]
    },
    {
      "cell_type": "code",
      "execution_count": 6,
      "metadata": {},
      "outputs": [],
      "source": []
    }
  ],
  "metadata": {
    "kernelspec": {
      "display_name": "Python 3",
      "language": "python",
      "name": "python3"
    },
    "language_info": {
      "codemirror_mode": {
        "name": "ipython",
        "version": 3
      },
      "file_extension": ".py",
      "mimetype": "text/x-python",
      "name": "python",
      "nbconvert_exporter": "python",
      "pygments_lexer": "ipython3",
      "version": "3.6.4"
    }
  },
  "nbformat": 4,
  "nbformat_minor": 2
}